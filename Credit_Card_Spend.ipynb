{
 "cells": [
  {
   "cell_type": "code",
   "execution_count": 1,
   "metadata": {},
   "outputs": [],
   "source": [
    "import numpy as np\n",
    "import pandas as pd\n",
    "import pandas_profiling\n",
    "import matplotlib.pyplot as plt\n",
    "%matplotlib inline\n",
    "import seaborn as sns\n",
    "import statsmodels.formula.api as smf\n",
    "from sklearn import metrics\n",
    "from sklearn.model_selection import train_test_split\n",
    "from sklearn.model_selection import GridSearchCV\n",
    "from statsmodels.stats.outliers_influence import variance_inflation_factor\n",
    "from patsy import dmatrices\n",
    "from sklearn.feature_selection import f_regression\n",
    "from scipy import stats"
   ]
  },
  {
   "cell_type": "code",
   "execution_count": 2,
   "metadata": {},
   "outputs": [
    {
     "data": {
      "text/html": [
       "<div>\n",
       "<style scoped>\n",
       "    .dataframe tbody tr th:only-of-type {\n",
       "        vertical-align: middle;\n",
       "    }\n",
       "\n",
       "    .dataframe tbody tr th {\n",
       "        vertical-align: top;\n",
       "    }\n",
       "\n",
       "    .dataframe thead th {\n",
       "        text-align: right;\n",
       "    }\n",
       "</style>\n",
       "<table border=\"1\" class=\"dataframe\">\n",
       "  <thead>\n",
       "    <tr style=\"text-align: right;\">\n",
       "      <th></th>\n",
       "      <th>custid</th>\n",
       "      <th>region</th>\n",
       "      <th>townsize</th>\n",
       "      <th>gender</th>\n",
       "      <th>age</th>\n",
       "      <th>agecat</th>\n",
       "      <th>birthmonth</th>\n",
       "      <th>ed</th>\n",
       "      <th>edcat</th>\n",
       "      <th>jobcat</th>\n",
       "      <th>...</th>\n",
       "      <th>owncd</th>\n",
       "      <th>ownpda</th>\n",
       "      <th>ownpc</th>\n",
       "      <th>ownipod</th>\n",
       "      <th>owngame</th>\n",
       "      <th>ownfax</th>\n",
       "      <th>news</th>\n",
       "      <th>response_01</th>\n",
       "      <th>response_02</th>\n",
       "      <th>response_03</th>\n",
       "    </tr>\n",
       "  </thead>\n",
       "  <tbody>\n",
       "    <tr>\n",
       "      <th>0</th>\n",
       "      <td>3964-QJWTRG-NPN</td>\n",
       "      <td>1</td>\n",
       "      <td>2.0</td>\n",
       "      <td>1</td>\n",
       "      <td>20</td>\n",
       "      <td>2</td>\n",
       "      <td>September</td>\n",
       "      <td>15</td>\n",
       "      <td>3</td>\n",
       "      <td>1</td>\n",
       "      <td>...</td>\n",
       "      <td>0</td>\n",
       "      <td>0</td>\n",
       "      <td>0</td>\n",
       "      <td>1</td>\n",
       "      <td>1</td>\n",
       "      <td>0</td>\n",
       "      <td>0</td>\n",
       "      <td>0</td>\n",
       "      <td>1</td>\n",
       "      <td>0</td>\n",
       "    </tr>\n",
       "    <tr>\n",
       "      <th>1</th>\n",
       "      <td>0648-AIPJSP-UVM</td>\n",
       "      <td>5</td>\n",
       "      <td>5.0</td>\n",
       "      <td>0</td>\n",
       "      <td>22</td>\n",
       "      <td>2</td>\n",
       "      <td>May</td>\n",
       "      <td>17</td>\n",
       "      <td>4</td>\n",
       "      <td>2</td>\n",
       "      <td>...</td>\n",
       "      <td>1</td>\n",
       "      <td>1</td>\n",
       "      <td>1</td>\n",
       "      <td>1</td>\n",
       "      <td>1</td>\n",
       "      <td>1</td>\n",
       "      <td>1</td>\n",
       "      <td>0</td>\n",
       "      <td>0</td>\n",
       "      <td>0</td>\n",
       "    </tr>\n",
       "    <tr>\n",
       "      <th>2</th>\n",
       "      <td>5195-TLUDJE-HVO</td>\n",
       "      <td>3</td>\n",
       "      <td>4.0</td>\n",
       "      <td>1</td>\n",
       "      <td>67</td>\n",
       "      <td>6</td>\n",
       "      <td>June</td>\n",
       "      <td>14</td>\n",
       "      <td>2</td>\n",
       "      <td>2</td>\n",
       "      <td>...</td>\n",
       "      <td>1</td>\n",
       "      <td>0</td>\n",
       "      <td>0</td>\n",
       "      <td>0</td>\n",
       "      <td>0</td>\n",
       "      <td>0</td>\n",
       "      <td>1</td>\n",
       "      <td>0</td>\n",
       "      <td>0</td>\n",
       "      <td>0</td>\n",
       "    </tr>\n",
       "    <tr>\n",
       "      <th>3</th>\n",
       "      <td>4459-VLPQUH-3OL</td>\n",
       "      <td>4</td>\n",
       "      <td>3.0</td>\n",
       "      <td>0</td>\n",
       "      <td>23</td>\n",
       "      <td>2</td>\n",
       "      <td>May</td>\n",
       "      <td>16</td>\n",
       "      <td>3</td>\n",
       "      <td>2</td>\n",
       "      <td>...</td>\n",
       "      <td>1</td>\n",
       "      <td>0</td>\n",
       "      <td>1</td>\n",
       "      <td>1</td>\n",
       "      <td>1</td>\n",
       "      <td>0</td>\n",
       "      <td>1</td>\n",
       "      <td>1</td>\n",
       "      <td>0</td>\n",
       "      <td>0</td>\n",
       "    </tr>\n",
       "    <tr>\n",
       "      <th>4</th>\n",
       "      <td>8158-SMTQFB-CNO</td>\n",
       "      <td>2</td>\n",
       "      <td>2.0</td>\n",
       "      <td>0</td>\n",
       "      <td>26</td>\n",
       "      <td>3</td>\n",
       "      <td>July</td>\n",
       "      <td>16</td>\n",
       "      <td>3</td>\n",
       "      <td>2</td>\n",
       "      <td>...</td>\n",
       "      <td>1</td>\n",
       "      <td>0</td>\n",
       "      <td>1</td>\n",
       "      <td>0</td>\n",
       "      <td>1</td>\n",
       "      <td>0</td>\n",
       "      <td>0</td>\n",
       "      <td>0</td>\n",
       "      <td>1</td>\n",
       "      <td>0</td>\n",
       "    </tr>\n",
       "  </tbody>\n",
       "</table>\n",
       "<p>5 rows × 130 columns</p>\n",
       "</div>"
      ],
      "text/plain": [
       "            custid  region  townsize  gender  age  agecat birthmonth  ed  \\\n",
       "0  3964-QJWTRG-NPN       1       2.0       1   20       2  September  15   \n",
       "1  0648-AIPJSP-UVM       5       5.0       0   22       2        May  17   \n",
       "2  5195-TLUDJE-HVO       3       4.0       1   67       6       June  14   \n",
       "3  4459-VLPQUH-3OL       4       3.0       0   23       2        May  16   \n",
       "4  8158-SMTQFB-CNO       2       2.0       0   26       3       July  16   \n",
       "\n",
       "   edcat  jobcat  ...  owncd  ownpda  ownpc  ownipod  owngame  ownfax  news  \\\n",
       "0      3       1  ...      0       0      0        1        1       0     0   \n",
       "1      4       2  ...      1       1      1        1        1       1     1   \n",
       "2      2       2  ...      1       0      0        0        0       0     1   \n",
       "3      3       2  ...      1       0      1        1        1       0     1   \n",
       "4      3       2  ...      1       0      1        0        1       0     0   \n",
       "\n",
       "   response_01  response_02  response_03  \n",
       "0            0            1            0  \n",
       "1            0            0            0  \n",
       "2            0            0            0  \n",
       "3            1            0            0  \n",
       "4            0            1            0  \n",
       "\n",
       "[5 rows x 130 columns]"
      ]
     },
     "execution_count": 2,
     "metadata": {},
     "output_type": "execute_result"
    }
   ],
   "source": [
    "data=pd.read_excel('C:/Users/Lenovo/Desktop/1. Predicting Credit Card Spend & Identifying Key Drivers/Data Set.xlsx')\n",
    "data.head()"
   ]
  },
  {
   "cell_type": "code",
   "execution_count": 3,
   "metadata": {},
   "outputs": [
    {
     "name": "stdout",
     "output_type": "stream",
     "text": [
      "<class 'pandas.core.frame.DataFrame'>\n",
      "RangeIndex: 5000 entries, 0 to 4999\n",
      "Columns: 130 entries, custid to response_03\n",
      "dtypes: float64(31), int64(97), object(2)\n",
      "memory usage: 5.0+ MB\n"
     ]
    }
   ],
   "source": [
    "data.info()"
   ]
  },
  {
   "cell_type": "code",
   "execution_count": 4,
   "metadata": {},
   "outputs": [],
   "source": [
    "#pandas_profiling.ProfileReport(data).to_file('C:/Users/Lenovo/Desktop/1. Predicting Credit Card Spend & Identifying Key Drivers/profileReport.html')"
   ]
  },
  {
   "cell_type": "code",
   "execution_count": 5,
   "metadata": {},
   "outputs": [],
   "source": [
    "#Pre-Screening Variables\n",
    "data.drop(['custid','birthmonth'],axis=1,inplace=True)"
   ]
  },
  {
   "cell_type": "code",
   "execution_count": 6,
   "metadata": {},
   "outputs": [],
   "source": [
    "def cont_var_summary(x):\n",
    "    N=x.count()\n",
    "    Nmiss=x.isna().sum()\n",
    "    Sum=x.sum()\n",
    "    Mean=x.mean()\n",
    "    Median=x.median()\n",
    "    Std=x.std()\n",
    "    Var=x.var()\n",
    "    Min=x.min()\n",
    "    P1=x.quantile(0.01)\n",
    "    P5=x.quantile(0.05)\n",
    "    P10=x.quantile(0.10)\n",
    "    P25=x.quantile(0.25)\n",
    "    P50=x.quantile(0.50)\n",
    "    P75=x.quantile(0.75)\n",
    "    P90=x.quantile(0.90)\n",
    "    P95=x.quantile(0.95)\n",
    "    P99=x.quantile(0.99)\n",
    "    Max=x.max()\n",
    "    return pd.Series([N,Nmiss,Sum,Mean,Median,Std,Var,Min,P1,P5,P10,P25,P50,P75,P90,P95,P99,Max],\n",
    "                     index=['N','NMISS','SUM','MEAN','MEDIAN','STD','VAR','MIN','P1','P5','P10','P25','P50','P75','P90','P95','P99','MAX'])"
   ]
  },
  {
   "cell_type": "code",
   "execution_count": 7,
   "metadata": {},
   "outputs": [],
   "source": [
    "data.apply(cont_var_summary).to_csv('C:/Users/Lenovo/Desktop/Modelling Case Study Outputs/AuditReport.csv')"
   ]
  },
  {
   "cell_type": "code",
   "execution_count": 8,
   "metadata": {},
   "outputs": [],
   "source": [
    "#Outlier Analysis\n",
    "data=data.apply(lambda x: x.clip(lower=x.quantile(0.05),upper=x.quantile(0.95)))"
   ]
  },
  {
   "cell_type": "code",
   "execution_count": 9,
   "metadata": {},
   "outputs": [],
   "source": [
    "#Missing Value Treatment\n",
    "data.drop(['lncardten','lnequipten','lntollmon','lnwiremon'],axis=1,inplace=True)\n",
    "data=data.apply(lambda x: x.fillna(x.mean()))"
   ]
  },
  {
   "cell_type": "code",
   "execution_count": 10,
   "metadata": {},
   "outputs": [],
   "source": [
    "total_spend=data.cardspent+data.card2spent\n",
    "data.drop(['cardspent','card2spent'],axis=1,inplace=True)\n",
    "data['ln_total_spend']=1+np.log(total_spend)"
   ]
  },
  {
   "cell_type": "code",
   "execution_count": 11,
   "metadata": {},
   "outputs": [
    {
     "data": {
      "image/png": "[encoded data removed]",
      "text/plain": [
       "<Figure size 432x288 with 1 Axes>"
      ]
     },
     "metadata": {
      "needs_background": "light"
     },
     "output_type": "display_data"
    }
   ],
   "source": [
    "#Checking for normal distribution of dependent variable\n",
    "sns.distplot(total_spend)\n",
    "plt.show()"
   ]
  },
  {
   "cell_type": "code",
   "execution_count": 12,
   "metadata": {},
   "outputs": [
    {
     "data": {
      "image/png": "[encoded data removed]",
      "text/plain": [
       "<Figure size 432x288 with 1 Axes>"
      ]
     },
     "metadata": {
      "needs_background": "light"
     },
     "output_type": "display_data"
    }
   ],
   "source": [
    "sns.distplot(data.ln_total_spend)\n",
    "plt.show()"
   ]
  },
  {
   "cell_type": "code",
   "execution_count": 13,
   "metadata": {},
   "outputs": [
    {
     "data": {
      "image/png": "[encoded data removed]",
      "text/plain": [
       "<Figure size 864x504 with 2 Axes>"
      ]
     },
     "metadata": {
      "needs_background": "light"
     },
     "output_type": "display_data"
    }
   ],
   "source": [
    "data.corr().to_excel('data_corr.xlsx')\n",
    "plt.figure(figsize=(12,7))\n",
    "sns.heatmap(data.corr())\n",
    "plt.show()"
   ]
  },
  {
   "cell_type": "code",
   "execution_count": 14,
   "metadata": {},
   "outputs": [],
   "source": [
    "#Removing variables with high correlation with other independent variables\n",
    "data.drop(['agecat','edcat','empcat','income','inccat',\n",
    "          'lncreddebt','lnothdebt','marital','spousedcat',\n",
    "          'pets','addresscat','carcatvalue','commutecat',\n",
    "          'tenure','card2tenurecat','cardtenurecat','lnlongmon',\n",
    "          'lnlongten','lntollten','equip','lnequipmon','cardmon',\n",
    "          'lnwireten'],axis=1,inplace=True)"
   ]
  },
  {
   "cell_type": "code",
   "execution_count": 15,
   "metadata": {},
   "outputs": [],
   "source": [
    "#Train Test Split\n",
    "train,test=train_test_split(data,test_size=0.3,random_state=120293)\n",
    "train_x,test_x,train_y,test_y=train_test_split(data.iloc[:,0:-1],data.ln_total_spend,\n",
    "                                               test_size=0.3,random_state=120293)"
   ]
  },
  {
   "cell_type": "markdown",
   "metadata": {},
   "source": [
    "### Linear Regression - OLS"
   ]
  },
  {
   "cell_type": "code",
   "execution_count": 16,
   "metadata": {},
   "outputs": [
    {
     "data": {
      "text/plain": [
       "'ln_total_spend~region+townsize+gender+age+ed+jobcat+union+employ+retire+lninc+debtinc+creddebt+othdebt+default+jobsat+spoused+reside+pets_cats+pets_dogs+pets_birds+pets_reptiles+pets_small+pets_saltfish+pets_freshfish+homeown+hometype+address+cars+carown+cartype+carvalue+carbought+carbuy+commute+commutetime+commutecar+commutemotorcycle+commutecarpool+commutebus+commuterail+commutepublic+commutebike+commutewalk+commutenonmotor+telecommute+reason+polview+polparty+polcontrib+vote+card+cardtype+cardbenefit+cardfee+cardtenure+card2+card2type+card2benefit+card2fee+card2tenure+active+bfast+churn+longmon+longten+tollfree+tollmon+tollten+equipmon+equipten+callcard+lncardmon+cardten+wireless+wiremon+wireten+multline+voice+pager+internet+callid+callwait+forward+confer+ebill+owntv+hourstv+ownvcr+owndvd+owncd+ownpda+ownpc+ownipod+owngame+ownfax+news+response_01+response_02+response_03'"
      ]
     },
     "execution_count": 16,
     "metadata": {},
     "output_type": "execute_result"
    }
   ],
   "source": [
    "mod_val='ln_total_spend~'+'+'.join(train_x.columns)\n",
    "mod_val"
   ]
  },
  {
   "cell_type": "code",
   "execution_count": 17,
   "metadata": {},
   "outputs": [],
   "source": [
    "lm1=smf.ols(formula=mod_val,data=train).fit()"
   ]
  },
  {
   "cell_type": "code",
   "execution_count": 18,
   "metadata": {},
   "outputs": [
    {
     "name": "stdout",
     "output_type": "stream",
     "text": [
      "                            OLS Regression Results                            \n",
      "==============================================================================\n",
      "Dep. Variable:         ln_total_spend   R-squared:                       0.282\n",
      "Model:                            OLS   Adj. R-squared:                  0.262\n",
      "Method:                 Least Squares   F-statistic:                     13.94\n",
      "Date:                Sat, 22 Feb 2020   Prob (F-statistic):          7.50e-179\n",
      "Time:                        13:53:24   Log-Likelihood:                -2496.2\n",
      "No. Observations:                3500   AIC:                             5186.\n",
      "Df Residuals:                    3403   BIC:                             5784.\n",
      "Df Model:                          96                                         \n",
      "Covariance Type:            nonrobust                                         \n",
      "=====================================================================================\n",
      "                        coef    std err          t      P>|t|      [0.025      0.975]\n",
      "-------------------------------------------------------------------------------------\n",
      "Intercept             3.4235      0.098     34.963      0.000       3.232       3.615\n",
      "region                0.0071      0.007      1.063      0.288      -0.006       0.020\n",
      "townsize              0.0032      0.008      0.396      0.692      -0.013       0.019\n",
      "gender               -0.0573      0.017     -3.321      0.001      -0.091      -0.023\n",
      "age                  -0.0025      0.001     -2.004      0.045      -0.005   -5.37e-05\n",
      "ed                   -0.0052      0.004     -1.415      0.157      -0.012       0.002\n",
      "jobcat               -0.0147      0.006     -2.438      0.015      -0.027      -0.003\n",
      "union                 0.0443      0.024      1.837      0.066      -0.003       0.092\n",
      "employ                0.0009      0.002      0.440      0.660      -0.003       0.005\n",
      "retire                0.0243      0.043      0.570      0.568      -0.059       0.108\n",
      "lninc                 0.3112      0.034      9.030      0.000       0.244       0.379\n",
      "debtinc              -0.0029      0.003     -1.081      0.280      -0.008       0.002\n",
      "creddebt              0.0119      0.008      1.447      0.148      -0.004       0.028\n",
      "othdebt               0.0076      0.006      1.314      0.189      -0.004       0.019\n",
      "default               0.0025      0.024      0.103      0.918      -0.046       0.051\n",
      "jobsat               -0.0088      0.007     -1.222      0.222      -0.023       0.005\n",
      "spoused               0.0009      0.002      0.594      0.553      -0.002       0.004\n",
      "reside               -0.0019      0.010     -0.201      0.841      -0.021       0.017\n",
      "pets_cats             0.0034      0.012      0.287      0.774      -0.020       0.027\n",
      "pets_dogs            -0.0083      0.013     -0.634      0.526      -0.034       0.017\n",
      "pets_birds           -0.0317      0.036     -0.890      0.374      -0.101       0.038\n",
      "pets_reptiles     -4.371e-15   1.64e-16    -26.640      0.000   -4.69e-15   -4.05e-15\n",
      "pets_small           -0.0722      0.040     -1.786      0.074      -0.151       0.007\n",
      "pets_saltfish     -6.735e-15   2.46e-16    -27.361      0.000   -7.22e-15   -6.25e-15\n",
      "pets_freshfish       -0.0037      0.003     -1.223      0.221      -0.010       0.002\n",
      "homeown               0.0142      0.019      0.758      0.449      -0.023       0.051\n",
      "hometype              0.0026      0.009      0.275      0.783      -0.016       0.021\n",
      "address               0.0015      0.001      1.004      0.315      -0.001       0.004\n",
      "cars                  0.0114      0.011      1.000      0.318      -0.011       0.034\n",
      "carown                0.0066      0.021      0.317      0.751      -0.034       0.047\n",
      "cartype               0.0019      0.017      0.113      0.910      -0.032       0.036\n",
      "carvalue             -0.0004      0.001     -0.375      0.708      -0.002       0.002\n",
      "carbought            -0.0244      0.019     -1.311      0.190      -0.061       0.012\n",
      "carbuy                0.0164      0.018      0.888      0.375      -0.020       0.053\n",
      "commute               0.0034      0.005      0.663      0.507      -0.007       0.013\n",
      "commutetime           0.0016      0.002      0.840      0.401      -0.002       0.005\n",
      "commutecar            0.0115      0.029      0.403      0.687      -0.045       0.068\n",
      "commutemotorcycle     0.0116      0.029      0.403      0.687      -0.045       0.068\n",
      "commutecarpool        0.0085      0.020      0.433      0.665      -0.030       0.047\n",
      "commutebus           -0.0273      0.018     -1.535      0.125      -0.062       0.008\n",
      "commuterail          -0.0172      0.019     -0.882      0.378      -0.055       0.021\n",
      "commutepublic        -0.0542      0.029     -1.842      0.066      -0.112       0.003\n",
      "commutebike           0.0002      0.027      0.006      0.995      -0.052       0.052\n",
      "commutewalk          -0.0084      0.019     -0.437      0.662      -0.046       0.029\n",
      "commutenonmotor      -0.0275      0.038     -0.732      0.464      -0.101       0.046\n",
      "telecommute           0.0227      0.022      1.040      0.298      -0.020       0.065\n",
      "reason               -0.0038      0.003     -1.265      0.206      -0.010       0.002\n",
      "polview              -0.0025      0.007     -0.371      0.711      -0.016       0.011\n",
      "polparty              0.0004      0.018      0.024      0.980      -0.034       0.035\n",
      "polcontrib            0.0007      0.020      0.034      0.973      -0.039       0.041\n",
      "vote                  0.0008      0.018      0.047      0.963      -0.034       0.035\n",
      "card                 -0.1694      0.008    -20.267      0.000      -0.186      -0.153\n",
      "cardtype             -0.0052      0.008     -0.676      0.499      -0.020       0.010\n",
      "cardbenefit          -0.0036      0.008     -0.472      0.637      -0.019       0.011\n",
      "cardfee              -0.0106      0.022     -0.486      0.627      -0.053       0.032\n",
      "cardtenure           -0.0013      0.003     -0.441      0.659      -0.007       0.005\n",
      "card2                -0.0931      0.008    -11.600      0.000      -0.109      -0.077\n",
      "card2type            -0.0024      0.008     -0.306      0.760      -0.017       0.013\n",
      "card2benefit         -0.0019      0.008     -0.249      0.803      -0.017       0.013\n",
      "card2fee             -0.0371      0.022     -1.676      0.094      -0.080       0.006\n",
      "card2tenure          -0.0025      0.004     -0.655      0.513      -0.010       0.005\n",
      "active               -0.0009      0.018     -0.049      0.961      -0.036       0.034\n",
      "bfast                -0.0040      0.011     -0.369      0.712      -0.025       0.017\n",
      "churn                 0.0447      0.023      1.966      0.049       0.000       0.089\n",
      "longmon               0.0026      0.005      0.585      0.559      -0.006       0.011\n",
      "longten           -2.335e-05   6.76e-05     -0.345      0.730      -0.000       0.000\n",
      "tollfree              0.0027      0.046      0.059      0.953      -0.088       0.093\n",
      "tollmon              -0.0038      0.003     -1.399      0.162      -0.009       0.002\n",
      "tollten            8.471e-05    3.7e-05      2.290      0.022    1.22e-05       0.000\n",
      "equipmon             -0.0012      0.001     -0.939      0.348      -0.004       0.001\n",
      "equipten           3.295e-05   2.73e-05      1.209      0.227   -2.05e-05    8.64e-05\n",
      "callcard              0.0024      0.036      0.067      0.947      -0.068       0.073\n",
      "lncardmon            -0.0326      0.038     -0.852      0.394      -0.108       0.042\n",
      "cardten            1.681e-05   3.78e-05      0.445      0.657   -5.73e-05    9.09e-05\n",
      "wireless              0.0922      0.068      1.356      0.175      -0.041       0.225\n",
      "wiremon              -0.0028      0.003     -1.039      0.299      -0.008       0.003\n",
      "wireten            8.205e-06    3.6e-05      0.228      0.820   -6.24e-05    7.88e-05\n",
      "multline             -0.0353      0.022     -1.572      0.116      -0.079       0.009\n",
      "voice                -0.0191      0.027     -0.698      0.485      -0.073       0.035\n",
      "pager                -0.0156      0.030     -0.520      0.603      -0.075       0.043\n",
      "internet              0.0216      0.009      2.354      0.019       0.004       0.040\n",
      "callid                0.0294      0.026      1.148      0.251      -0.021       0.080\n",
      "callwait              0.0097      0.026      0.380      0.704      -0.040       0.060\n",
      "forward              -0.0245      0.025     -0.985      0.325      -0.073       0.024\n",
      "confer               -0.0161      0.025     -0.631      0.528      -0.066       0.034\n",
      "ebill                -0.0080      0.025     -0.323      0.747      -0.056       0.040\n",
      "owntv                 3.4235      0.098     34.963      0.000       3.232       3.615\n",
      "hourstv              -0.0009      0.002     -0.475      0.635      -0.005       0.003\n",
      "ownvcr               -0.0169      0.038     -0.443      0.658      -0.092       0.058\n",
      "owndvd                0.0551      0.037      1.495      0.135      -0.017       0.127\n",
      "owncd                 0.0326      0.042      0.782      0.435      -0.049       0.114\n",
      "ownpda               -0.0042      0.028     -0.151      0.880      -0.059       0.050\n",
      "ownpc                -0.0091      0.024     -0.374      0.708      -0.057       0.039\n",
      "ownipod               0.0059      0.021      0.286      0.775      -0.035       0.047\n",
      "owngame              -0.0130      0.021     -0.614      0.539      -0.055       0.029\n",
      "ownfax                0.0223      0.029      0.770      0.441      -0.035       0.079\n",
      "news                  0.0194      0.022      0.897      0.370      -0.023       0.062\n",
      "response_01           0.0012      0.031      0.038      0.970      -0.060       0.062\n",
      "response_02           0.0114      0.026      0.446      0.656      -0.039       0.062\n",
      "response_03           0.0643      0.028      2.271      0.023       0.009       0.120\n",
      "==============================================================================\n",
      "Omnibus:                       48.620   Durbin-Watson:                   2.026\n",
      "Prob(Omnibus):                  0.000   Jarque-Bera (JB):               45.966\n",
      "Skew:                          -0.245   Prob(JB):                     1.04e-10\n",
      "Kurtosis:                       2.725   Cond. No.                     5.56e+17\n",
      "==============================================================================\n",
      "\n",
      "Warnings:\n",
      "[1] Standard Errors assume that the covariance matrix of the errors is correctly specified.\n",
      "[2] The smallest eigenvalue is 3.39e-26. This might indicate that there are\n",
      "strong multicollinearity problems or that the design matrix is singular.\n"
     ]
    }
   ],
   "source": [
    "print(lm1.summary())"
   ]
  },
  {
   "cell_type": "code",
   "execution_count": 19,
   "metadata": {},
   "outputs": [],
   "source": [
    "# Removing Influential Observations By Cooks'D Method\n",
    "inf=lm1.get_influence()"
   ]
  },
  {
   "cell_type": "code",
   "execution_count": 20,
   "metadata": {},
   "outputs": [],
   "source": [
    "cooks_ser=inf.summary_frame().cooks_d"
   ]
  },
  {
   "cell_type": "code",
   "execution_count": 21,
   "metadata": {},
   "outputs": [],
   "source": [
    "thres=3/len(data)\n",
    "index_list=[]\n",
    "for x in cooks_ser:\n",
    "    if(x>thres):\n",
    "        index_list.append(cooks_ser[cooks_ser==x].index[0])"
   ]
  },
  {
   "cell_type": "code",
   "execution_count": 22,
   "metadata": {},
   "outputs": [
    {
     "data": {
      "text/plain": [
       "513"
      ]
     },
     "execution_count": 22,
     "metadata": {},
     "output_type": "execute_result"
    }
   ],
   "source": [
    "len(index_list)"
   ]
  },
  {
   "cell_type": "code",
   "execution_count": 23,
   "metadata": {},
   "outputs": [],
   "source": [
    "train=train.drop(index=index_list)"
   ]
  },
  {
   "cell_type": "code",
   "execution_count": 24,
   "metadata": {},
   "outputs": [
    {
     "name": "stdout",
     "output_type": "stream",
     "text": [
      "                            OLS Regression Results                            \n",
      "==============================================================================\n",
      "Dep. Variable:         ln_total_spend   R-squared:                       0.451\n",
      "Model:                            OLS   Adj. R-squared:                  0.433\n",
      "Method:                 Least Squares   F-statistic:                     24.76\n",
      "Date:                Sat, 22 Feb 2020   Prob (F-statistic):          3.57e-304\n",
      "Time:                        13:55:41   Log-Likelihood:                -1231.1\n",
      "No. Observations:                2987   AIC:                             2656.\n",
      "Df Residuals:                    2890   BIC:                             3238.\n",
      "Df Model:                          96                                         \n",
      "Covariance Type:            nonrobust                                         \n",
      "=====================================================================================\n",
      "                        coef    std err          t      P>|t|      [0.025      0.975]\n",
      "-------------------------------------------------------------------------------------\n",
      "Intercept             3.3126      0.079     41.872      0.000       3.157       3.468\n",
      "region                0.0101      0.005      1.893      0.058      -0.000       0.021\n",
      "townsize             -0.0006      0.007     -0.085      0.932      -0.013       0.012\n",
      "gender               -0.0530      0.014     -3.817      0.000      -0.080      -0.026\n",
      "age                  -0.0019      0.001     -1.881      0.060      -0.004    7.98e-05\n",
      "ed                   -0.0026      0.003     -0.880      0.379      -0.008       0.003\n",
      "jobcat               -0.0136      0.005     -2.777      0.006      -0.023      -0.004\n",
      "union                 0.0317      0.019      1.634      0.102      -0.006       0.070\n",
      "employ                0.0003      0.002      0.211      0.833      -0.003       0.003\n",
      "retire                0.0118      0.034      0.342      0.732      -0.056       0.079\n",
      "lninc                 0.3212      0.028     11.615      0.000       0.267       0.375\n",
      "debtinc              -0.0013      0.002     -0.571      0.568      -0.006       0.003\n",
      "creddebt              0.0136      0.007      2.051      0.040       0.001       0.027\n",
      "othdebt               0.0042      0.005      0.896      0.370      -0.005       0.013\n",
      "default               0.0110      0.020      0.555      0.579      -0.028       0.050\n",
      "jobsat               -0.0073      0.006     -1.247      0.213      -0.019       0.004\n",
      "spoused               0.0019      0.001      1.530      0.126      -0.001       0.004\n",
      "reside               -0.0004      0.008     -0.049      0.961      -0.015       0.015\n",
      "pets_cats             0.0080      0.010      0.818      0.414      -0.011       0.027\n",
      "pets_dogs            -0.0168      0.010     -1.610      0.107      -0.037       0.004\n",
      "pets_birds           -0.0286      0.029     -0.992      0.321      -0.085       0.028\n",
      "pets_reptiles     -8.694e-16   1.68e-16     -5.176      0.000    -1.2e-15    -5.4e-16\n",
      "pets_small           -0.0489      0.034     -1.447      0.148      -0.115       0.017\n",
      "pets_saltfish     -1.025e-15   7.44e-17    -13.787      0.000   -1.17e-15   -8.79e-16\n",
      "pets_freshfish       -0.0024      0.002     -0.972      0.331      -0.007       0.002\n",
      "homeown               0.0188      0.015      1.241      0.215      -0.011       0.049\n",
      "hometype              0.0007      0.008      0.097      0.922      -0.014       0.016\n",
      "address               0.0010      0.001      0.841      0.400      -0.001       0.003\n",
      "cars                  0.0164      0.009      1.783      0.075      -0.002       0.034\n",
      "carown                0.0034      0.017      0.203      0.839      -0.029       0.036\n",
      "cartype              -0.0044      0.014     -0.323      0.747      -0.031       0.023\n",
      "carvalue             -0.0003      0.001     -0.380      0.704      -0.002       0.001\n",
      "carbought            -0.0174      0.015     -1.163      0.245      -0.047       0.012\n",
      "carbuy                0.0250      0.015      1.675      0.094      -0.004       0.054\n",
      "commute               0.0057      0.004      1.375      0.169      -0.002       0.014\n",
      "commutetime           0.0021      0.001      1.388      0.165      -0.001       0.005\n",
      "commutecar            0.0210      0.023      0.904      0.366      -0.025       0.067\n",
      "commutemotorcycle    -0.0095      0.023     -0.408      0.683      -0.055       0.036\n",
      "commutecarpool        0.0089      0.016      0.567      0.571      -0.022       0.040\n",
      "commutebus           -0.0284      0.014     -1.982      0.048      -0.056      -0.000\n",
      "commuterail          -0.0003      0.016     -0.019      0.985      -0.031       0.031\n",
      "commutepublic        -0.0782      0.024     -3.269      0.001      -0.125      -0.031\n",
      "commutebike          -0.0119      0.021     -0.553      0.580      -0.054       0.030\n",
      "commutewalk          -0.0337      0.015     -2.174      0.030      -0.064      -0.003\n",
      "commutenonmotor      -0.0221      0.030     -0.731      0.465      -0.081       0.037\n",
      "telecommute           0.0180      0.018      1.027      0.305      -0.016       0.052\n",
      "reason               -0.0041      0.002     -1.683      0.092      -0.009       0.001\n",
      "polview               0.0075      0.005      1.388      0.165      -0.003       0.018\n",
      "polparty              0.0017      0.014      0.117      0.907      -0.026       0.030\n",
      "polcontrib           -0.0097      0.016     -0.594      0.553      -0.042       0.022\n",
      "vote                  0.0061      0.014      0.431      0.666      -0.022       0.034\n",
      "card                 -0.1761      0.007    -26.466      0.000      -0.189      -0.163\n",
      "cardtype             -0.0062      0.006     -1.015      0.310      -0.018       0.006\n",
      "cardbenefit          -0.0005      0.006     -0.078      0.938      -0.013       0.012\n",
      "cardfee              -0.0217      0.018     -1.222      0.222      -0.057       0.013\n",
      "cardtenure            0.0022      0.002      0.946      0.344      -0.002       0.007\n",
      "card2                -0.0987      0.006    -15.385      0.000      -0.111      -0.086\n",
      "card2type           1.28e-05      0.006      0.002      0.998      -0.012       0.012\n",
      "card2benefit          0.0017      0.006      0.278      0.781      -0.010       0.014\n",
      "card2fee             -0.0518      0.018     -2.927      0.003      -0.087      -0.017\n",
      "card2tenure          -0.0077      0.003     -2.493      0.013      -0.014      -0.002\n",
      "active               -0.0083      0.014     -0.573      0.567      -0.037       0.020\n",
      "bfast                -0.0085      0.009     -0.980      0.327      -0.025       0.008\n",
      "churn                 0.0410      0.018      2.237      0.025       0.005       0.077\n",
      "longmon               0.0076      0.004      2.071      0.038       0.000       0.015\n",
      "longten           -7.495e-05   5.52e-05     -1.357      0.175      -0.000    3.34e-05\n",
      "tollfree             -0.0104      0.037     -0.279      0.780      -0.083       0.063\n",
      "tollmon              -0.0055      0.002     -2.502      0.012      -0.010      -0.001\n",
      "tollten               0.0001   3.01e-05      4.003      0.000    6.15e-05       0.000\n",
      "equipmon             -0.0018      0.001     -1.678      0.094      -0.004       0.000\n",
      "equipten           4.724e-05   2.21e-05      2.138      0.033    3.92e-06    9.05e-05\n",
      "callcard              0.0171      0.030      0.577      0.564      -0.041       0.075\n",
      "lncardmon            -0.0224      0.031     -0.712      0.477      -0.084       0.039\n",
      "cardten            1.127e-05    3.1e-05      0.363      0.716   -4.96e-05    7.21e-05\n",
      "wireless              0.1521      0.056      2.707      0.007       0.042       0.262\n",
      "wiremon              -0.0032      0.002     -1.379      0.168      -0.008       0.001\n",
      "wireten           -5.827e-06   2.98e-05     -0.196      0.845   -6.42e-05    5.26e-05\n",
      "multline             -0.0566      0.018     -3.139      0.002      -0.092      -0.021\n",
      "voice                -0.0184      0.022     -0.832      0.406      -0.062       0.025\n",
      "pager                -0.0418      0.025     -1.686      0.092      -0.091       0.007\n",
      "internet              0.0182      0.007      2.452      0.014       0.004       0.033\n",
      "callid                0.0188      0.021      0.904      0.366      -0.022       0.060\n",
      "callwait              0.0139      0.021      0.674      0.501      -0.027       0.054\n",
      "forward              -0.0296      0.020     -1.461      0.144      -0.069       0.010\n",
      "confer                0.0099      0.021      0.479      0.632      -0.031       0.050\n",
      "ebill                -0.0232      0.020     -1.166      0.244      -0.062       0.016\n",
      "owntv                 3.3126      0.079     41.872      0.000       3.157       3.468\n",
      "hourstv               0.0006      0.002      0.386      0.700      -0.003       0.004\n",
      "ownvcr               -0.0426      0.031     -1.353      0.176      -0.104       0.019\n",
      "owndvd                0.0901      0.030      2.955      0.003       0.030       0.150\n",
      "owncd                 0.0518      0.035      1.498      0.134      -0.016       0.120\n",
      "ownpda               -0.0055      0.023     -0.240      0.810      -0.051       0.040\n",
      "ownpc                 0.0043      0.020      0.221      0.825      -0.034       0.043\n",
      "ownipod               0.0069      0.017      0.416      0.677      -0.026       0.040\n",
      "owngame              -0.0193      0.017     -1.136      0.256      -0.053       0.014\n",
      "ownfax                0.0255      0.023      1.084      0.278      -0.021       0.072\n",
      "news                  0.0226      0.017      1.296      0.195      -0.012       0.057\n",
      "response_01          -0.0065      0.026     -0.251      0.802      -0.057       0.044\n",
      "response_02           0.0285      0.021      1.382      0.167      -0.012       0.069\n",
      "response_03           0.0625      0.023      2.736      0.006       0.018       0.107\n",
      "==============================================================================\n",
      "Omnibus:                      275.691   Durbin-Watson:                   1.981\n",
      "Prob(Omnibus):                  0.000   Jarque-Bera (JB):               88.562\n",
      "Skew:                          -0.106   Prob(JB):                     5.87e-20\n",
      "Kurtosis:                       2.184   Cond. No.                     4.78e+17\n",
      "==============================================================================\n",
      "\n",
      "Warnings:\n",
      "[1] Standard Errors assume that the covariance matrix of the errors is correctly specified.\n",
      "[2] The smallest eigenvalue is 3.94e-26. This might indicate that there are\n",
      "strong multicollinearity problems or that the design matrix is singular.\n"
     ]
    }
   ],
   "source": [
    "lm1=smf.ols(formula=mod_val,data=train).fit()\n",
    "print(lm1.summary())"
   ]
  },
  {
   "cell_type": "code",
   "execution_count": 25,
   "metadata": {},
   "outputs": [
    {
     "name": "stderr",
     "output_type": "stream",
     "text": [
      "C:\\Users\\Lenovo\\Anaconda3\\lib\\site-packages\\sklearn\\feature_selection\\_univariate_selection.py:299: RuntimeWarning: divide by zero encountered in true_divide\n",
      "  corr /= X_norms\n",
      "C:\\Users\\Lenovo\\Anaconda3\\lib\\site-packages\\sklearn\\feature_selection\\_univariate_selection.py:299: RuntimeWarning: invalid value encountered in true_divide\n",
      "  corr /= X_norms\n",
      "C:\\Users\\Lenovo\\Anaconda3\\lib\\site-packages\\sklearn\\feature_selection\\_univariate_selection.py:304: RuntimeWarning: invalid value encountered in true_divide\n",
      "  F = corr ** 2 / (1 - corr ** 2) * degrees_of_freedom\n",
      "C:\\Users\\Lenovo\\Anaconda3\\lib\\site-packages\\scipy\\stats\\_distn_infrastructure.py:877: RuntimeWarning: invalid value encountered in greater\n",
      "  return (self.a < x) & (x < self.b)\n",
      "C:\\Users\\Lenovo\\Anaconda3\\lib\\site-packages\\scipy\\stats\\_distn_infrastructure.py:877: RuntimeWarning: invalid value encountered in less\n",
      "  return (self.a < x) & (x < self.b)\n",
      "C:\\Users\\Lenovo\\Anaconda3\\lib\\site-packages\\scipy\\stats\\_distn_infrastructure.py:1831: RuntimeWarning: invalid value encountered in less_equal\n",
      "  cond2 = cond0 & (x <= self.a)\n"
     ]
    }
   ],
   "source": [
    "#F-Regression\n",
    "f_values,p_values=f_regression(train_x,train_y)"
   ]
  },
  {
   "cell_type": "code",
   "execution_count": 26,
   "metadata": {},
   "outputs": [
    {
     "data": {
      "text/html": [
       "<div>\n",
       "<style scoped>\n",
       "    .dataframe tbody tr th:only-of-type {\n",
       "        vertical-align: middle;\n",
       "    }\n",
       "\n",
       "    .dataframe tbody tr th {\n",
       "        vertical-align: top;\n",
       "    }\n",
       "\n",
       "    .dataframe thead th {\n",
       "        text-align: right;\n",
       "    }\n",
       "</style>\n",
       "<table border=\"1\" class=\"dataframe\">\n",
       "  <thead>\n",
       "    <tr style=\"text-align: right;\">\n",
       "      <th></th>\n",
       "      <th>Variable</th>\n",
       "      <th>F-Score</th>\n",
       "      <th>p-Value</th>\n",
       "    </tr>\n",
       "  </thead>\n",
       "  <tbody>\n",
       "    <tr>\n",
       "      <th>49</th>\n",
       "      <td>vote</td>\n",
       "      <td>14.47</td>\n",
       "      <td>0.00</td>\n",
       "    </tr>\n",
       "    <tr>\n",
       "      <th>50</th>\n",
       "      <td>card</td>\n",
       "      <td>222.13</td>\n",
       "      <td>0.00</td>\n",
       "    </tr>\n",
       "    <tr>\n",
       "      <th>54</th>\n",
       "      <td>cardtenure</td>\n",
       "      <td>9.26</td>\n",
       "      <td>0.00</td>\n",
       "    </tr>\n",
       "    <tr>\n",
       "      <th>55</th>\n",
       "      <td>card2</td>\n",
       "      <td>29.90</td>\n",
       "      <td>0.00</td>\n",
       "    </tr>\n",
       "    <tr>\n",
       "      <th>59</th>\n",
       "      <td>card2tenure</td>\n",
       "      <td>11.40</td>\n",
       "      <td>0.00</td>\n",
       "    </tr>\n",
       "    <tr>\n",
       "      <th>65</th>\n",
       "      <td>tollfree</td>\n",
       "      <td>9.31</td>\n",
       "      <td>0.00</td>\n",
       "    </tr>\n",
       "    <tr>\n",
       "      <th>66</th>\n",
       "      <td>tollmon</td>\n",
       "      <td>20.96</td>\n",
       "      <td>0.00</td>\n",
       "    </tr>\n",
       "    <tr>\n",
       "      <th>67</th>\n",
       "      <td>tollten</td>\n",
       "      <td>36.66</td>\n",
       "      <td>0.00</td>\n",
       "    </tr>\n",
       "    <tr>\n",
       "      <th>68</th>\n",
       "      <td>equipmon</td>\n",
       "      <td>14.37</td>\n",
       "      <td>0.00</td>\n",
       "    </tr>\n",
       "    <tr>\n",
       "      <th>69</th>\n",
       "      <td>equipten</td>\n",
       "      <td>23.00</td>\n",
       "      <td>0.00</td>\n",
       "    </tr>\n",
       "    <tr>\n",
       "      <th>73</th>\n",
       "      <td>wireless</td>\n",
       "      <td>16.18</td>\n",
       "      <td>0.00</td>\n",
       "    </tr>\n",
       "    <tr>\n",
       "      <th>74</th>\n",
       "      <td>wiremon</td>\n",
       "      <td>21.96</td>\n",
       "      <td>0.00</td>\n",
       "    </tr>\n",
       "    <tr>\n",
       "      <th>75</th>\n",
       "      <td>wireten</td>\n",
       "      <td>34.71</td>\n",
       "      <td>0.00</td>\n",
       "    </tr>\n",
       "    <tr>\n",
       "      <th>77</th>\n",
       "      <td>voice</td>\n",
       "      <td>8.49</td>\n",
       "      <td>0.00</td>\n",
       "    </tr>\n",
       "    <tr>\n",
       "      <th>78</th>\n",
       "      <td>pager</td>\n",
       "      <td>8.49</td>\n",
       "      <td>0.00</td>\n",
       "    </tr>\n",
       "    <tr>\n",
       "      <th>79</th>\n",
       "      <td>internet</td>\n",
       "      <td>15.75</td>\n",
       "      <td>0.00</td>\n",
       "    </tr>\n",
       "    <tr>\n",
       "      <th>80</th>\n",
       "      <td>callid</td>\n",
       "      <td>13.55</td>\n",
       "      <td>0.00</td>\n",
       "    </tr>\n",
       "    <tr>\n",
       "      <th>81</th>\n",
       "      <td>callwait</td>\n",
       "      <td>11.90</td>\n",
       "      <td>0.00</td>\n",
       "    </tr>\n",
       "    <tr>\n",
       "      <th>83</th>\n",
       "      <td>confer</td>\n",
       "      <td>8.34</td>\n",
       "      <td>0.00</td>\n",
       "    </tr>\n",
       "    <tr>\n",
       "      <th>87</th>\n",
       "      <td>ownvcr</td>\n",
       "      <td>74.41</td>\n",
       "      <td>0.00</td>\n",
       "    </tr>\n",
       "    <tr>\n",
       "      <th>88</th>\n",
       "      <td>owndvd</td>\n",
       "      <td>92.28</td>\n",
       "      <td>0.00</td>\n",
       "    </tr>\n",
       "    <tr>\n",
       "      <th>89</th>\n",
       "      <td>owncd</td>\n",
       "      <td>76.62</td>\n",
       "      <td>0.00</td>\n",
       "    </tr>\n",
       "    <tr>\n",
       "      <th>90</th>\n",
       "      <td>ownpda</td>\n",
       "      <td>13.10</td>\n",
       "      <td>0.00</td>\n",
       "    </tr>\n",
       "    <tr>\n",
       "      <th>94</th>\n",
       "      <td>ownfax</td>\n",
       "      <td>10.46</td>\n",
       "      <td>0.00</td>\n",
       "    </tr>\n",
       "    <tr>\n",
       "      <th>30</th>\n",
       "      <td>carvalue</td>\n",
       "      <td>378.21</td>\n",
       "      <td>0.00</td>\n",
       "    </tr>\n",
       "    <tr>\n",
       "      <th>28</th>\n",
       "      <td>carown</td>\n",
       "      <td>21.72</td>\n",
       "      <td>0.00</td>\n",
       "    </tr>\n",
       "    <tr>\n",
       "      <th>98</th>\n",
       "      <td>response_03</td>\n",
       "      <td>15.69</td>\n",
       "      <td>0.00</td>\n",
       "    </tr>\n",
       "    <tr>\n",
       "      <th>14</th>\n",
       "      <td>jobsat</td>\n",
       "      <td>15.98</td>\n",
       "      <td>0.00</td>\n",
       "    </tr>\n",
       "    <tr>\n",
       "      <th>26</th>\n",
       "      <td>address</td>\n",
       "      <td>8.58</td>\n",
       "      <td>0.00</td>\n",
       "    </tr>\n",
       "    <tr>\n",
       "      <th>11</th>\n",
       "      <td>creddebt</td>\n",
       "      <td>227.63</td>\n",
       "      <td>0.00</td>\n",
       "    </tr>\n",
       "    <tr>\n",
       "      <th>...</th>\n",
       "      <td>...</td>\n",
       "      <td>...</td>\n",
       "      <td>...</td>\n",
       "    </tr>\n",
       "    <tr>\n",
       "      <th>5</th>\n",
       "      <td>jobcat</td>\n",
       "      <td>1.19</td>\n",
       "      <td>0.27</td>\n",
       "    </tr>\n",
       "    <tr>\n",
       "      <th>19</th>\n",
       "      <td>pets_birds</td>\n",
       "      <td>1.06</td>\n",
       "      <td>0.30</td>\n",
       "    </tr>\n",
       "    <tr>\n",
       "      <th>33</th>\n",
       "      <td>commute</td>\n",
       "      <td>0.80</td>\n",
       "      <td>0.37</td>\n",
       "    </tr>\n",
       "    <tr>\n",
       "      <th>10</th>\n",
       "      <td>debtinc</td>\n",
       "      <td>0.69</td>\n",
       "      <td>0.41</td>\n",
       "    </tr>\n",
       "    <tr>\n",
       "      <th>37</th>\n",
       "      <td>commutecarpool</td>\n",
       "      <td>0.64</td>\n",
       "      <td>0.42</td>\n",
       "    </tr>\n",
       "    <tr>\n",
       "      <th>53</th>\n",
       "      <td>cardfee</td>\n",
       "      <td>0.60</td>\n",
       "      <td>0.44</td>\n",
       "    </tr>\n",
       "    <tr>\n",
       "      <th>43</th>\n",
       "      <td>commutenonmotor</td>\n",
       "      <td>0.57</td>\n",
       "      <td>0.45</td>\n",
       "    </tr>\n",
       "    <tr>\n",
       "      <th>23</th>\n",
       "      <td>pets_freshfish</td>\n",
       "      <td>0.49</td>\n",
       "      <td>0.49</td>\n",
       "    </tr>\n",
       "    <tr>\n",
       "      <th>13</th>\n",
       "      <td>default</td>\n",
       "      <td>0.46</td>\n",
       "      <td>0.50</td>\n",
       "    </tr>\n",
       "    <tr>\n",
       "      <th>60</th>\n",
       "      <td>active</td>\n",
       "      <td>0.34</td>\n",
       "      <td>0.56</td>\n",
       "    </tr>\n",
       "    <tr>\n",
       "      <th>96</th>\n",
       "      <td>response_01</td>\n",
       "      <td>0.25</td>\n",
       "      <td>0.62</td>\n",
       "    </tr>\n",
       "    <tr>\n",
       "      <th>56</th>\n",
       "      <td>card2type</td>\n",
       "      <td>0.22</td>\n",
       "      <td>0.64</td>\n",
       "    </tr>\n",
       "    <tr>\n",
       "      <th>86</th>\n",
       "      <td>hourstv</td>\n",
       "      <td>0.18</td>\n",
       "      <td>0.67</td>\n",
       "    </tr>\n",
       "    <tr>\n",
       "      <th>47</th>\n",
       "      <td>polparty</td>\n",
       "      <td>0.16</td>\n",
       "      <td>0.69</td>\n",
       "    </tr>\n",
       "    <tr>\n",
       "      <th>57</th>\n",
       "      <td>card2benefit</td>\n",
       "      <td>0.12</td>\n",
       "      <td>0.73</td>\n",
       "    </tr>\n",
       "    <tr>\n",
       "      <th>71</th>\n",
       "      <td>lncardmon</td>\n",
       "      <td>0.09</td>\n",
       "      <td>0.76</td>\n",
       "    </tr>\n",
       "    <tr>\n",
       "      <th>51</th>\n",
       "      <td>cardtype</td>\n",
       "      <td>0.09</td>\n",
       "      <td>0.77</td>\n",
       "    </tr>\n",
       "    <tr>\n",
       "      <th>44</th>\n",
       "      <td>telecommute</td>\n",
       "      <td>0.05</td>\n",
       "      <td>0.83</td>\n",
       "    </tr>\n",
       "    <tr>\n",
       "      <th>29</th>\n",
       "      <td>cartype</td>\n",
       "      <td>0.02</td>\n",
       "      <td>0.88</td>\n",
       "    </tr>\n",
       "    <tr>\n",
       "      <th>16</th>\n",
       "      <td>reside</td>\n",
       "      <td>0.02</td>\n",
       "      <td>0.89</td>\n",
       "    </tr>\n",
       "    <tr>\n",
       "      <th>34</th>\n",
       "      <td>commutetime</td>\n",
       "      <td>0.01</td>\n",
       "      <td>0.92</td>\n",
       "    </tr>\n",
       "    <tr>\n",
       "      <th>42</th>\n",
       "      <td>commutewalk</td>\n",
       "      <td>0.01</td>\n",
       "      <td>0.93</td>\n",
       "    </tr>\n",
       "    <tr>\n",
       "      <th>18</th>\n",
       "      <td>pets_dogs</td>\n",
       "      <td>0.01</td>\n",
       "      <td>0.93</td>\n",
       "    </tr>\n",
       "    <tr>\n",
       "      <th>1</th>\n",
       "      <td>townsize</td>\n",
       "      <td>0.00</td>\n",
       "      <td>0.95</td>\n",
       "    </tr>\n",
       "    <tr>\n",
       "      <th>17</th>\n",
       "      <td>pets_cats</td>\n",
       "      <td>0.00</td>\n",
       "      <td>0.96</td>\n",
       "    </tr>\n",
       "    <tr>\n",
       "      <th>3</th>\n",
       "      <td>age</td>\n",
       "      <td>0.00</td>\n",
       "      <td>0.98</td>\n",
       "    </tr>\n",
       "    <tr>\n",
       "      <th>31</th>\n",
       "      <td>carbought</td>\n",
       "      <td>0.00</td>\n",
       "      <td>1.00</td>\n",
       "    </tr>\n",
       "    <tr>\n",
       "      <th>20</th>\n",
       "      <td>pets_reptiles</td>\n",
       "      <td>NaN</td>\n",
       "      <td>NaN</td>\n",
       "    </tr>\n",
       "    <tr>\n",
       "      <th>22</th>\n",
       "      <td>pets_saltfish</td>\n",
       "      <td>NaN</td>\n",
       "      <td>NaN</td>\n",
       "    </tr>\n",
       "    <tr>\n",
       "      <th>85</th>\n",
       "      <td>owntv</td>\n",
       "      <td>NaN</td>\n",
       "      <td>NaN</td>\n",
       "    </tr>\n",
       "  </tbody>\n",
       "</table>\n",
       "<p>99 rows × 3 columns</p>\n",
       "</div>"
      ],
      "text/plain": [
       "           Variable  F-Score  p-Value\n",
       "49             vote    14.47     0.00\n",
       "50             card   222.13     0.00\n",
       "54       cardtenure     9.26     0.00\n",
       "55            card2    29.90     0.00\n",
       "59      card2tenure    11.40     0.00\n",
       "65         tollfree     9.31     0.00\n",
       "66          tollmon    20.96     0.00\n",
       "67          tollten    36.66     0.00\n",
       "68         equipmon    14.37     0.00\n",
       "69         equipten    23.00     0.00\n",
       "73         wireless    16.18     0.00\n",
       "74          wiremon    21.96     0.00\n",
       "75          wireten    34.71     0.00\n",
       "77            voice     8.49     0.00\n",
       "78            pager     8.49     0.00\n",
       "79         internet    15.75     0.00\n",
       "80           callid    13.55     0.00\n",
       "81         callwait    11.90     0.00\n",
       "83           confer     8.34     0.00\n",
       "87           ownvcr    74.41     0.00\n",
       "88           owndvd    92.28     0.00\n",
       "89            owncd    76.62     0.00\n",
       "90           ownpda    13.10     0.00\n",
       "94           ownfax    10.46     0.00\n",
       "30         carvalue   378.21     0.00\n",
       "28           carown    21.72     0.00\n",
       "98      response_03    15.69     0.00\n",
       "14           jobsat    15.98     0.00\n",
       "26          address     8.58     0.00\n",
       "11         creddebt   227.63     0.00\n",
       "..              ...      ...      ...\n",
       "5            jobcat     1.19     0.27\n",
       "19       pets_birds     1.06     0.30\n",
       "33          commute     0.80     0.37\n",
       "10          debtinc     0.69     0.41\n",
       "37   commutecarpool     0.64     0.42\n",
       "53          cardfee     0.60     0.44\n",
       "43  commutenonmotor     0.57     0.45\n",
       "23   pets_freshfish     0.49     0.49\n",
       "13          default     0.46     0.50\n",
       "60           active     0.34     0.56\n",
       "96      response_01     0.25     0.62\n",
       "56        card2type     0.22     0.64\n",
       "86          hourstv     0.18     0.67\n",
       "47         polparty     0.16     0.69\n",
       "57     card2benefit     0.12     0.73\n",
       "71        lncardmon     0.09     0.76\n",
       "51         cardtype     0.09     0.77\n",
       "44      telecommute     0.05     0.83\n",
       "29          cartype     0.02     0.88\n",
       "16           reside     0.02     0.89\n",
       "34      commutetime     0.01     0.92\n",
       "42      commutewalk     0.01     0.93\n",
       "18        pets_dogs     0.01     0.93\n",
       "1          townsize     0.00     0.95\n",
       "17        pets_cats     0.00     0.96\n",
       "3               age     0.00     0.98\n",
       "31        carbought     0.00     1.00\n",
       "20    pets_reptiles      NaN      NaN\n",
       "22    pets_saltfish      NaN      NaN\n",
       "85            owntv      NaN      NaN\n",
       "\n",
       "[99 rows x 3 columns]"
      ]
     },
     "execution_count": 26,
     "metadata": {},
     "output_type": "execute_result"
    }
   ],
   "source": [
    "var_ser=pd.Series(train_x.columns)\n",
    "f_values=pd.Series(f_values).round(2)\n",
    "p_values=pd.Series(p_values).round(2)\n",
    "f_regression_res=pd.DataFrame()\n",
    "f_regression_res=pd.concat([var_ser,f_values,p_values],axis=1)\n",
    "f_regression_res.columns=['Variable','F-Score','p-Value']\n",
    "f_regression_res=f_regression_res.sort_values(['p-Value'])\n",
    "f_regression_res"
   ]
  },
  {
   "cell_type": "code",
   "execution_count": 27,
   "metadata": {},
   "outputs": [
    {
     "data": {
      "text/plain": [
       "49           vote\n",
       "50           card\n",
       "54     cardtenure\n",
       "55          card2\n",
       "59    card2tenure\n",
       "65       tollfree\n",
       "66        tollmon\n",
       "67        tollten\n",
       "68       equipmon\n",
       "69       equipten\n",
       "73       wireless\n",
       "74        wiremon\n",
       "75        wireten\n",
       "77          voice\n",
       "78          pager\n",
       "79       internet\n",
       "80         callid\n",
       "81       callwait\n",
       "83         confer\n",
       "87         ownvcr\n",
       "88         owndvd\n",
       "89          owncd\n",
       "90         ownpda\n",
       "94         ownfax\n",
       "30       carvalue\n",
       "28         carown\n",
       "98    response_03\n",
       "14         jobsat\n",
       "26        address\n",
       "11       creddebt\n",
       "9           lninc\n",
       "8          retire\n",
       "7          employ\n",
       "2          gender\n",
       "4              ed\n",
       "12        othdebt\n",
       "24        homeown\n",
       "97    response_02\n",
       "92        ownipod\n",
       "93        owngame\n",
       "95           news\n",
       "76       multline\n",
       "91          ownpc\n",
       "72        cardten\n",
       "63        longmon\n",
       "84          ebill\n",
       "82        forward\n",
       "0          region\n",
       "15        spoused\n",
       "64        longten\n",
       "6           union\n",
       "Name: Variable, dtype: object"
      ]
     },
     "execution_count": 27,
     "metadata": {},
     "output_type": "execute_result"
    }
   ],
   "source": [
    "var_ser=f_regression_res[f_regression_res['p-Value']<=0.05].Variable\n",
    "var_ser=var_ser.astype('str')\n",
    "var_ser"
   ]
  },
  {
   "cell_type": "code",
   "execution_count": 28,
   "metadata": {},
   "outputs": [
    {
     "data": {
      "text/plain": [
       "'ln_total_spend~vote+card+cardtenure+card2+card2tenure+tollfree+tollmon+tollten+equipmon+equipten+wireless+wiremon+wireten+voice+pager+internet+callid+callwait+confer+ownvcr+owndvd+owncd+ownpda+ownfax+carvalue+carown+response_03+jobsat+address+creddebt+lninc+retire+employ+gender+ed+othdebt+homeown+response_02+ownipod+owngame+news+multline+ownpc+cardten+longmon+ebill+forward+region+spoused+longten+union'"
      ]
     },
     "execution_count": 28,
     "metadata": {},
     "output_type": "execute_result"
    }
   ],
   "source": [
    "mod_val='ln_total_spend~'+'+'.join(var_ser)\n",
    "mod_val"
   ]
  },
  {
   "cell_type": "code",
   "execution_count": 29,
   "metadata": {},
   "outputs": [],
   "source": [
    "lm1=smf.ols(formula=mod_val,data=train).fit()"
   ]
  },
  {
   "cell_type": "code",
   "execution_count": 30,
   "metadata": {},
   "outputs": [
    {
     "name": "stdout",
     "output_type": "stream",
     "text": [
      "                            OLS Regression Results                            \n",
      "==============================================================================\n",
      "Dep. Variable:         ln_total_spend   R-squared:                       0.436\n",
      "Model:                            OLS   Adj. R-squared:                  0.427\n",
      "Method:                 Least Squares   F-statistic:                     44.54\n",
      "Date:                Sat, 22 Feb 2020   Prob (F-statistic):          1.09e-321\n",
      "Time:                        13:55:42   Log-Likelihood:                -1271.4\n",
      "No. Observations:                2987   AIC:                             2647.\n",
      "Df Residuals:                    2935   BIC:                             2959.\n",
      "Df Model:                          51                                         \n",
      "Covariance Type:            nonrobust                                         \n",
      "===============================================================================\n",
      "                  coef    std err          t      P>|t|      [0.025      0.975]\n",
      "-------------------------------------------------------------------------------\n",
      "Intercept       6.5456      0.089     73.915      0.000       6.372       6.719\n",
      "vote            0.0048      0.014      0.339      0.735      -0.023       0.032\n",
      "card           -0.1764      0.007    -26.588      0.000      -0.189      -0.163\n",
      "cardtenure      0.0022      0.002      0.954      0.340      -0.002       0.007\n",
      "card2          -0.0998      0.006    -15.567      0.000      -0.112      -0.087\n",
      "card2tenure    -0.0078      0.003     -2.544      0.011      -0.014      -0.002\n",
      "tollfree    -5.846e-05      0.037     -0.002      0.999      -0.073       0.073\n",
      "tollmon        -0.0056      0.002     -2.664      0.008      -0.010      -0.001\n",
      "tollten         0.0001   2.79e-05      4.211      0.000    6.28e-05       0.000\n",
      "equipmon       -0.0012      0.001     -1.118      0.264      -0.003       0.001\n",
      "equipten     3.349e-05   2.17e-05      1.540      0.124   -9.14e-06    7.61e-05\n",
      "wireless        0.1569      0.056      2.806      0.005       0.047       0.267\n",
      "wiremon        -0.0033      0.002     -1.428      0.153      -0.008       0.001\n",
      "wireten     -3.061e-06   2.96e-05     -0.103      0.918   -6.12e-05    5.51e-05\n",
      "voice          -0.0124      0.022     -0.561      0.575      -0.056       0.031\n",
      "pager          -0.0418      0.025     -1.690      0.091      -0.090       0.007\n",
      "internet        0.0193      0.007      2.605      0.009       0.005       0.034\n",
      "callid          0.0198      0.021      0.954      0.340      -0.021       0.060\n",
      "callwait        0.0128      0.021      0.625      0.532      -0.027       0.053\n",
      "confer          0.0097      0.020      0.473      0.636      -0.030       0.050\n",
      "ownvcr         -0.0422      0.031     -1.345      0.179      -0.104       0.019\n",
      "owndvd          0.0893      0.030      2.953      0.003       0.030       0.149\n",
      "owncd           0.0543      0.034      1.581      0.114      -0.013       0.122\n",
      "ownpda         -0.0021      0.023     -0.093      0.926      -0.047       0.043\n",
      "ownfax          0.0229      0.023      0.975      0.330      -0.023       0.069\n",
      "carvalue       -0.0002      0.001     -0.289      0.772      -0.002       0.001\n",
      "carown          0.0084      0.014      0.624      0.533      -0.018       0.035\n",
      "response_03     0.0564      0.023      2.476      0.013       0.012       0.101\n",
      "jobsat         -0.0083      0.006     -1.426      0.154      -0.020       0.003\n",
      "address      5.189e-05      0.001      0.054      0.957      -0.002       0.002\n",
      "creddebt        0.0120      0.005      2.196      0.028       0.001       0.023\n",
      "lninc           0.3270      0.024     13.453      0.000       0.279       0.375\n",
      "retire         -0.0117      0.032     -0.360      0.719      -0.075       0.052\n",
      "employ         -0.0022      0.001     -1.602      0.109      -0.005       0.000\n",
      "gender         -0.0528      0.014     -3.820      0.000      -0.080      -0.026\n",
      "ed             -0.0042      0.003     -1.437      0.151      -0.010       0.002\n",
      "othdebt         0.0030      0.003      0.926      0.355      -0.003       0.009\n",
      "homeown         0.0211      0.015      1.423      0.155      -0.008       0.050\n",
      "response_02     0.0329      0.021      1.600      0.110      -0.007       0.073\n",
      "ownipod         0.0101      0.017      0.608      0.543      -0.023       0.043\n",
      "owngame        -0.0141      0.017     -0.830      0.406      -0.047       0.019\n",
      "news            0.0229      0.017      1.321      0.187      -0.011       0.057\n",
      "multline       -0.0516      0.018     -2.865      0.004      -0.087      -0.016\n",
      "ownpc          -0.0006      0.020     -0.033      0.973      -0.039       0.038\n",
      "cardten       3.17e-06   1.53e-05      0.207      0.836   -2.69e-05    3.32e-05\n",
      "longmon         0.0062      0.004      1.696      0.090      -0.001       0.013\n",
      "ebill          -0.0240      0.020     -1.212      0.226      -0.063       0.015\n",
      "forward        -0.0329      0.020     -1.632      0.103      -0.072       0.007\n",
      "region          0.0086      0.005      1.778      0.076      -0.001       0.018\n",
      "spoused         0.0019      0.001      2.055      0.040    8.83e-05       0.004\n",
      "longten     -5.275e-05   5.42e-05     -0.973      0.330      -0.000    5.35e-05\n",
      "union           0.0303      0.019      1.566      0.118      -0.008       0.068\n",
      "==============================================================================\n",
      "Omnibus:                      252.038   Durbin-Watson:                   1.977\n",
      "Prob(Omnibus):                  0.000   Jarque-Bera (JB):               85.482\n",
      "Skew:                          -0.115   Prob(JB):                     2.74e-19\n",
      "Kurtosis:                       2.204   Cond. No.                     2.32e+04\n",
      "==============================================================================\n",
      "\n",
      "Warnings:\n",
      "[1] Standard Errors assume that the covariance matrix of the errors is correctly specified.\n",
      "[2] The condition number is large, 2.32e+04. This might indicate that there are\n",
      "strong multicollinearity or other numerical problems.\n"
     ]
    }
   ],
   "source": [
    "print(lm1.summary())"
   ]
  },
  {
   "cell_type": "code",
   "execution_count": 31,
   "metadata": {},
   "outputs": [
    {
     "name": "stderr",
     "output_type": "stream",
     "text": [
      "C:\\Users\\Lenovo\\Anaconda3\\lib\\site-packages\\statsmodels\\regression\\linear_model.py:1636: RuntimeWarning: divide by zero encountered in double_scalars\n",
      "  return 1 - self.ssr/self.centered_tss\n",
      "C:\\Users\\Lenovo\\Anaconda3\\lib\\site-packages\\statsmodels\\regression\\linear_model.py:1636: RuntimeWarning: invalid value encountered in double_scalars\n",
      "  return 1 - self.ssr/self.centered_tss\n"
     ]
    },
    {
     "data": {
      "text/html": [
       "<div>\n",
       "<style scoped>\n",
       "    .dataframe tbody tr th:only-of-type {\n",
       "        vertical-align: middle;\n",
       "    }\n",
       "\n",
       "    .dataframe tbody tr th {\n",
       "        vertical-align: top;\n",
       "    }\n",
       "\n",
       "    .dataframe thead th {\n",
       "        text-align: right;\n",
       "    }\n",
       "</style>\n",
       "<table border=\"1\" class=\"dataframe\">\n",
       "  <thead>\n",
       "    <tr style=\"text-align: right;\">\n",
       "      <th></th>\n",
       "      <th>Features</th>\n",
       "      <th>Variance Inflation Factor</th>\n",
       "    </tr>\n",
       "  </thead>\n",
       "  <tbody>\n",
       "    <tr>\n",
       "      <th>0</th>\n",
       "      <td>Intercept</td>\n",
       "      <td>0.000000</td>\n",
       "    </tr>\n",
       "    <tr>\n",
       "      <th>85</th>\n",
       "      <td>owntv</td>\n",
       "      <td>0.000000</td>\n",
       "    </tr>\n",
       "    <tr>\n",
       "      <th>56</th>\n",
       "      <td>card2type</td>\n",
       "      <td>1.029984</td>\n",
       "    </tr>\n",
       "    <tr>\n",
       "      <th>21</th>\n",
       "      <td>pets_small</td>\n",
       "      <td>1.030201</td>\n",
       "    </tr>\n",
       "    <tr>\n",
       "      <th>53</th>\n",
       "      <td>cardfee</td>\n",
       "      <td>1.030694</td>\n",
       "    </tr>\n",
       "  </tbody>\n",
       "</table>\n",
       "</div>"
      ],
      "text/plain": [
       "      Features  Variance Inflation Factor\n",
       "0    Intercept                   0.000000\n",
       "85       owntv                   0.000000\n",
       "56   card2type                   1.029984\n",
       "21  pets_small                   1.030201\n",
       "53     cardfee                   1.030694"
      ]
     },
     "execution_count": 31,
     "metadata": {},
     "output_type": "execute_result"
    }
   ],
   "source": [
    "#Variance Inflation Factor\n",
    "var_ser=pd.Series(train_x.columns)\n",
    "var_ser=var_ser.drop(index=[0])\n",
    "mod_val='ln_total_spend~'+'+'.join(var_ser)\n",
    "a,b=dmatrices(mod_val,train,return_type='dataframe')\n",
    "vif=pd.DataFrame()\n",
    "vif['Features']=b.columns\n",
    "vif['Variance Inflation Factor']=[variance_inflation_factor(b.values,i) for i in range(b.shape[1])]\n",
    "vif=vif.sort_values(['Variance Inflation Factor'])\n",
    "vif.head()"
   ]
  },
  {
   "cell_type": "code",
   "execution_count": 32,
   "metadata": {},
   "outputs": [
    {
     "data": {
      "text/plain": [
       "85                owntv\n",
       "56            card2type\n",
       "21           pets_small\n",
       "53              cardfee\n",
       "18            pets_dogs\n",
       "17            pets_cats\n",
       "6                 union\n",
       "36    commutemotorcycle\n",
       "45               reason\n",
       "51             cardtype\n",
       "57         card2benefit\n",
       "52          cardbenefit\n",
       "19           pets_birds\n",
       "23       pets_freshfish\n",
       "40        commutepublic\n",
       "2                gender\n",
       "58             card2fee\n",
       "47             polparty\n",
       "97          response_02\n",
       "86              hourstv\n",
       "39          commuterail\n",
       "25             hometype\n",
       "48           polcontrib\n",
       "37       commutecarpool\n",
       "96          response_01\n",
       "98          response_03\n",
       "44          telecommute\n",
       "46              polview\n",
       "38           commutebus\n",
       "41          commutebike\n",
       "            ...        \n",
       "1              townsize\n",
       "94               ownfax\n",
       "76             multline\n",
       "29              cartype\n",
       "90               ownpda\n",
       "31            carbought\n",
       "4                    ed\n",
       "15              spoused\n",
       "84                ebill\n",
       "91                ownpc\n",
       "16               reside\n",
       "82              forward\n",
       "77                voice\n",
       "83               confer\n",
       "81             callwait\n",
       "80               callid\n",
       "78                pager\n",
       "33              commute\n",
       "79             internet\n",
       "27                 cars\n",
       "35           commutecar\n",
       "28               carown\n",
       "11             creddebt\n",
       "8                retire\n",
       "10              debtinc\n",
       "70             callcard\n",
       "71            lncardmon\n",
       "26              address\n",
       "7                employ\n",
       "12              othdebt\n",
       "Name: Features, Length: 80, dtype: object"
      ]
     },
     "execution_count": 32,
     "metadata": {},
     "output_type": "execute_result"
    }
   ],
   "source": [
    "var_ser=vif[vif['Variance Inflation Factor']<=5].Features\n",
    "var_ser=var_ser.drop(index=[0])\n",
    "var_ser"
   ]
  },
  {
   "cell_type": "code",
   "execution_count": 33,
   "metadata": {},
   "outputs": [
    {
     "data": {
      "text/plain": [
       "'ln_total_spend~owntv+card2type+pets_small+cardfee+pets_dogs+pets_cats+union+commutemotorcycle+reason+cardtype+card2benefit+cardbenefit+pets_birds+pets_freshfish+commutepublic+gender+card2fee+polparty+response_02+hourstv+commuterail+hometype+polcontrib+commutecarpool+response_01+response_03+telecommute+polview+commutebus+commutebike+vote+bfast+carbuy+active+commutenonmotor+homeown+card+commutewalk+card2+churn+commutetime+jobsat+default+owncd+ownipod+owndvd+ownvcr+jobcat+owngame+news+townsize+ownfax+multline+cartype+ownpda+carbought+ed+spoused+ebill+ownpc+reside+forward+voice+confer+callwait+callid+pager+commute+internet+cars+commutecar+carown+creddebt+retire+debtinc+callcard+lncardmon+address+employ+othdebt'"
      ]
     },
     "execution_count": 33,
     "metadata": {},
     "output_type": "execute_result"
    }
   ],
   "source": [
    "mod_val='ln_total_spend~'+'+'.join(var_ser)\n",
    "mod_val"
   ]
  },
  {
   "cell_type": "code",
   "execution_count": 34,
   "metadata": {},
   "outputs": [],
   "source": [
    "lm1=smf.ols(formula=mod_val,data=train).fit()"
   ]
  },
  {
   "cell_type": "code",
   "execution_count": 35,
   "metadata": {},
   "outputs": [
    {
     "name": "stdout",
     "output_type": "stream",
     "text": [
      "                            OLS Regression Results                            \n",
      "==============================================================================\n",
      "Dep. Variable:         ln_total_spend   R-squared:                       0.410\n",
      "Model:                            OLS   Adj. R-squared:                  0.394\n",
      "Method:                 Least Squares   F-statistic:                     25.57\n",
      "Date:                Sat, 22 Feb 2020   Prob (F-statistic):          3.34e-272\n",
      "Time:                        13:55:46   Log-Likelihood:                -1339.6\n",
      "No. Observations:                2987   AIC:                             2839.\n",
      "Df Residuals:                    2907   BIC:                             3319.\n",
      "Df Model:                          79                                         \n",
      "Covariance Type:            nonrobust                                         \n",
      "=====================================================================================\n",
      "                        coef    std err          t      P>|t|      [0.025      0.975]\n",
      "-------------------------------------------------------------------------------------\n",
      "Intercept             3.7226      0.056     66.309      0.000       3.613       3.833\n",
      "owntv                 3.7226      0.056     66.309      0.000       3.613       3.833\n",
      "card2type             0.0007      0.006      0.108      0.914      -0.012       0.013\n",
      "pets_small           -0.0422      0.035     -1.210      0.227      -0.111       0.026\n",
      "cardfee              -0.0139      0.018     -0.759      0.448      -0.050       0.022\n",
      "pets_dogs            -0.0154      0.011     -1.432      0.152      -0.036       0.006\n",
      "pets_cats             0.0104      0.010      1.025      0.305      -0.009       0.030\n",
      "union                 0.0350      0.020      1.751      0.080      -0.004       0.074\n",
      "commutemotorcycle    -0.0052      0.024     -0.217      0.829      -0.052       0.042\n",
      "reason               -0.0038      0.002     -1.529      0.126      -0.009       0.001\n",
      "cardtype             -0.0060      0.006     -0.954      0.340      -0.018       0.006\n",
      "card2benefit          0.0049      0.006      0.773      0.440      -0.008       0.017\n",
      "cardbenefit          -0.0027      0.006     -0.419      0.675      -0.015       0.010\n",
      "pets_birds           -0.0360      0.030     -1.214      0.225      -0.094       0.022\n",
      "pets_freshfish       -0.0029      0.003     -1.147      0.252      -0.008       0.002\n",
      "commutepublic        -0.0777      0.025     -3.148      0.002      -0.126      -0.029\n",
      "gender               -0.0479      0.014     -3.348      0.001      -0.076      -0.020\n",
      "card2fee             -0.0530      0.018     -2.903      0.004      -0.089      -0.017\n",
      "polparty              0.0096      0.015      0.651      0.515      -0.019       0.038\n",
      "response_02           0.0343      0.021      1.611      0.107      -0.007       0.076\n",
      "hourstv               0.0006      0.002      0.376      0.707      -0.003       0.004\n",
      "commuterail           0.0007      0.016      0.046      0.964      -0.031       0.033\n",
      "hometype              0.0003      0.008      0.044      0.965      -0.015       0.016\n",
      "polcontrib            0.0019      0.017      0.115      0.909      -0.031       0.035\n",
      "commutecarpool        0.0082      0.016      0.504      0.614      -0.024       0.040\n",
      "response_01          -0.0108      0.027     -0.406      0.685      -0.063       0.041\n",
      "response_03           0.0706      0.024      3.000      0.003       0.024       0.117\n",
      "telecommute           0.0175      0.018      0.971      0.332      -0.018       0.053\n",
      "polview               0.0095      0.006      1.705      0.088      -0.001       0.020\n",
      "commutebus           -0.0241      0.015     -1.636      0.102      -0.053       0.005\n",
      "commutebike          -0.0150      0.022     -0.679      0.497      -0.058       0.028\n",
      "vote                  0.0138      0.015      0.948      0.343      -0.015       0.042\n",
      "bfast                -0.0052      0.009     -0.589      0.556      -0.023       0.012\n",
      "carbuy                0.0216      0.015      1.401      0.161      -0.009       0.052\n",
      "active               -0.0054      0.015     -0.360      0.719      -0.035       0.024\n",
      "commutenonmotor      -0.0285      0.031     -0.915      0.360      -0.090       0.033\n",
      "homeown               0.0266      0.015      1.717      0.086      -0.004       0.057\n",
      "card                 -0.1760      0.007    -25.646      0.000      -0.189      -0.163\n",
      "commutewalk          -0.0310      0.016     -1.940      0.052      -0.062       0.000\n",
      "card2                -0.0997      0.007    -15.075      0.000      -0.113      -0.087\n",
      "churn                 0.0375      0.018      2.050      0.040       0.002       0.073\n",
      "commutetime           0.0018      0.002      1.141      0.254      -0.001       0.005\n",
      "jobsat               -0.0052      0.006     -0.864      0.388      -0.017       0.007\n",
      "default               0.0079      0.020      0.390      0.696      -0.032       0.047\n",
      "owncd                 0.0814      0.035      2.298      0.022       0.012       0.151\n",
      "ownipod               0.0136      0.017      0.800      0.424      -0.020       0.047\n",
      "owndvd                0.1324      0.031      4.262      0.000       0.071       0.193\n",
      "ownvcr               -0.0018      0.032     -0.056      0.955      -0.065       0.061\n",
      "jobcat               -0.0134      0.005     -2.793      0.005      -0.023      -0.004\n",
      "owngame              -0.0085      0.017     -0.487      0.626      -0.043       0.026\n",
      "news                  0.0330      0.017      1.979      0.048       0.000       0.066\n",
      "townsize              0.0037      0.006      0.578      0.564      -0.009       0.016\n",
      "ownfax                0.0253      0.023      1.087      0.277      -0.020       0.071\n",
      "multline             -0.0523      0.017     -3.012      0.003      -0.086      -0.018\n",
      "cartype              -0.0129      0.014     -0.916      0.360      -0.040       0.015\n",
      "ownpda               -0.0007      0.023     -0.030      0.976      -0.045       0.044\n",
      "carbought            -0.0221      0.015     -1.452      0.147      -0.052       0.008\n",
      "ed                    0.0042      0.003      1.405      0.160      -0.002       0.010\n",
      "spoused               0.0019      0.001      1.510      0.131      -0.001       0.004\n",
      "ebill                -0.0280      0.020     -1.397      0.163      -0.067       0.011\n",
      "ownpc                -0.0042      0.020     -0.208      0.835      -0.044       0.035\n",
      "reside               -0.0019      0.008     -0.252      0.801      -0.017       0.013\n",
      "forward              -0.0300      0.020     -1.464      0.143      -0.070       0.010\n",
      "voice                -0.0107      0.022     -0.482      0.630      -0.054       0.033\n",
      "confer                0.0103      0.021      0.496      0.620      -0.030       0.051\n",
      "callwait              0.0088      0.021      0.428      0.668      -0.031       0.049\n",
      "callid                0.0291      0.021      1.389      0.165      -0.012       0.070\n",
      "pager                -0.0475      0.024     -1.973      0.049      -0.095      -0.000\n",
      "commute               0.0067      0.004      1.575      0.115      -0.002       0.015\n",
      "internet              0.0185      0.007      2.493      0.013       0.004       0.033\n",
      "cars                  0.0160      0.009      1.694      0.090      -0.003       0.035\n",
      "commutecar            0.0179      0.024      0.749      0.454      -0.029       0.065\n",
      "carown                0.0213      0.016      1.323      0.186      -0.010       0.053\n",
      "creddebt              0.0523      0.006      8.795      0.000       0.041       0.064\n",
      "retire               -0.2138      0.030     -7.194      0.000      -0.272      -0.155\n",
      "debtinc              -0.0181      0.002    -10.283      0.000      -0.022      -0.015\n",
      "callcard              0.0015      0.019      0.080      0.936      -0.036       0.039\n",
      "lncardmon            -0.0174      0.017     -1.035      0.301      -0.050       0.016\n",
      "address               0.0008      0.001      0.878      0.380      -0.001       0.003\n",
      "employ                0.0044      0.001      2.960      0.003       0.001       0.007\n",
      "othdebt               0.0407      0.004     11.072      0.000       0.033       0.048\n",
      "==============================================================================\n",
      "Omnibus:                      169.515   Durbin-Watson:                   1.985\n",
      "Prob(Omnibus):                  0.000   Jarque-Bera (JB):               70.619\n",
      "Skew:                          -0.129   Prob(JB):                     4.63e-16\n",
      "Kurtosis:                       2.293   Cond. No.                     4.31e+16\n",
      "==============================================================================\n",
      "\n",
      "Warnings:\n",
      "[1] Standard Errors assume that the covariance matrix of the errors is correctly specified.\n",
      "[2] The smallest eigenvalue is 3.19e-27. This might indicate that there are\n",
      "strong multicollinearity problems or that the design matrix is singular.\n"
     ]
    }
   ],
   "source": [
    "print(lm1.summary())"
   ]
  },
  {
   "cell_type": "code",
   "execution_count": 36,
   "metadata": {},
   "outputs": [],
   "source": [
    "#After removing Insignificant Variables\n",
    "mod_val='''ln_total_spend~owntv+union+commutepublic+gender+card2fee+\n",
    "response_03+commutebus+carbuy+homeown+card+card2+churn+owncd+owndvd+jobcat+\n",
    "news+multline+pager+internet+creddebt+retire+debtinc+employ+othdebt'''"
   ]
  },
  {
   "cell_type": "code",
   "execution_count": 37,
   "metadata": {},
   "outputs": [],
   "source": [
    "lm1=smf.ols(formula=mod_val,data=train).fit()"
   ]
  },
  {
   "cell_type": "code",
   "execution_count": 38,
   "metadata": {},
   "outputs": [
    {
     "name": "stdout",
     "output_type": "stream",
     "text": [
      "                            OLS Regression Results                            \n",
      "==============================================================================\n",
      "Dep. Variable:         ln_total_spend   R-squared:                       0.400\n",
      "Model:                            OLS   Adj. R-squared:                  0.395\n",
      "Method:                 Least Squares   F-statistic:                     85.73\n",
      "Date:                Sat, 22 Feb 2020   Prob (F-statistic):          7.12e-307\n",
      "Time:                        13:55:46   Log-Likelihood:                -1365.7\n",
      "No. Observations:                2987   AIC:                             2779.\n",
      "Df Residuals:                    2963   BIC:                             2923.\n",
      "Df Model:                          23                                         \n",
      "Covariance Type:            nonrobust                                         \n",
      "=================================================================================\n",
      "                    coef    std err          t      P>|t|      [0.025      0.975]\n",
      "---------------------------------------------------------------------------------\n",
      "Intercept         3.7839      0.025    150.376      0.000       3.735       3.833\n",
      "owntv             3.7839      0.025    150.376      0.000       3.735       3.833\n",
      "union             0.0389      0.020      1.960      0.050   -5.28e-06       0.078\n",
      "commutepublic    -0.0787      0.024     -3.237      0.001      -0.126      -0.031\n",
      "gender           -0.0481      0.014     -3.406      0.001      -0.076      -0.020\n",
      "card2fee         -0.0541      0.018     -3.003      0.003      -0.089      -0.019\n",
      "response_03       0.0679      0.023      2.929      0.003       0.022       0.113\n",
      "commutebus       -0.0277      0.014     -1.923      0.055      -0.056       0.001\n",
      "carbuy            0.0275      0.015      1.875      0.061      -0.001       0.056\n",
      "homeown           0.0373      0.015      2.502      0.012       0.008       0.066\n",
      "card             -0.1765      0.007    -26.031      0.000      -0.190      -0.163\n",
      "card2            -0.1009      0.007    -15.503      0.000      -0.114      -0.088\n",
      "churn             0.0410      0.018      2.309      0.021       0.006       0.076\n",
      "owncd             0.0814      0.033      2.454      0.014       0.016       0.146\n",
      "owndvd            0.1425      0.029      4.857      0.000       0.085       0.200\n",
      "jobcat           -0.0138      0.005     -3.027      0.002      -0.023      -0.005\n",
      "news              0.0378      0.016      2.355      0.019       0.006       0.069\n",
      "multline         -0.0456      0.016     -2.806      0.005      -0.077      -0.014\n",
      "pager            -0.0365      0.019     -1.963      0.050      -0.073   -4.97e-05\n",
      "internet          0.0148      0.006      2.550      0.011       0.003       0.026\n",
      "creddebt          0.0539      0.006      9.459      0.000       0.043       0.065\n",
      "retire           -0.2121      0.028     -7.617      0.000      -0.267      -0.157\n",
      "debtinc          -0.0190      0.002    -11.357      0.000      -0.022      -0.016\n",
      "employ            0.0039      0.001      3.198      0.001       0.002       0.006\n",
      "othdebt           0.0432      0.004     12.271      0.000       0.036       0.050\n",
      "==============================================================================\n",
      "Omnibus:                      167.373   Durbin-Watson:                   1.982\n",
      "Prob(Omnibus):                  0.000   Jarque-Bera (JB):               72.375\n",
      "Skew:                          -0.150   Prob(JB):                     1.92e-16\n",
      "Kurtosis:                       2.299   Cond. No.                     3.96e+17\n",
      "==============================================================================\n",
      "\n",
      "Warnings:\n",
      "[1] Standard Errors assume that the covariance matrix of the errors is correctly specified.\n",
      "[2] The smallest eigenvalue is 5.49e-30. This might indicate that there are\n",
      "strong multicollinearity problems or that the design matrix is singular.\n"
     ]
    }
   ],
   "source": [
    "print(lm1.summary())"
   ]
  },
  {
   "cell_type": "code",
   "execution_count": 39,
   "metadata": {},
   "outputs": [],
   "source": [
    "#Predicting on Train and Test\n",
    "train_pred=lm1.predict(train)\n",
    "test_pred=lm1.predict(test)"
   ]
  },
  {
   "cell_type": "code",
   "execution_count": 40,
   "metadata": {},
   "outputs": [
    {
     "name": "stdout",
     "output_type": "stream",
     "text": [
      "RMSE for Train is:  0.3822337293169014\n",
      "RMSE for Test is:  0.5069811541774093\n"
     ]
    }
   ],
   "source": [
    "#RMSE for Train and Test\n",
    "train_rmse=np.sqrt(metrics.mean_squared_error(train.ln_total_spend,train_pred))\n",
    "print('RMSE for Train is: ',train_rmse)\n",
    "test_rmse=np.sqrt(metrics.mean_squared_error(test.ln_total_spend,test_pred))\n",
    "print('RMSE for Test is: ',test_rmse)"
   ]
  },
  {
   "cell_type": "code",
   "execution_count": 41,
   "metadata": {},
   "outputs": [
    {
     "name": "stdout",
     "output_type": "stream",
     "text": [
      "MAPE for Train is:  7.043287486110024\n",
      "MAPE for Test is:  7.0387012874330095\n"
     ]
    }
   ],
   "source": [
    "#MAPE for Train and Test\n",
    "train_mape=np.mean(metrics.mean_absolute_error((train.ln_total_spend-train_pred)/train_pred,train_pred))\n",
    "print('MAPE for Train is: ',train_mape)\n",
    "test_mape=np.mean(metrics.mean_absolute_error((test.ln_total_spend-test_pred)/test_pred,test_pred))\n",
    "print('MAPE for Test is: ',test_mape)"
   ]
  },
  {
   "cell_type": "code",
   "execution_count": 42,
   "metadata": {},
   "outputs": [
    {
     "name": "stdout",
     "output_type": "stream",
     "text": [
      "Correlation for Train is:  (0.632112165247005, 0.0)\n",
      "Correlation for Test is:  (0.45586827538753794, 7.49802410204362e-78)\n"
     ]
    }
   ],
   "source": [
    "#Correlation for Train and Test\n",
    "train_corr=stats.stats.pearsonr(train.ln_total_spend,train_pred)\n",
    "print('Correlation for Train is: ',train_corr)\n",
    "test_corr=stats.stats.pearsonr(test.ln_total_spend,test_pred)\n",
    "print('Correlation for Test is: ',test_corr)"
   ]
  },
  {
   "cell_type": "code",
   "execution_count": 43,
   "metadata": {},
   "outputs": [
    {
     "data": {
      "text/html": [
       "<div>\n",
       "<style scoped>\n",
       "    .dataframe tbody tr th:only-of-type {\n",
       "        vertical-align: middle;\n",
       "    }\n",
       "\n",
       "    .dataframe tbody tr th {\n",
       "        vertical-align: top;\n",
       "    }\n",
       "\n",
       "    .dataframe thead th {\n",
       "        text-align: right;\n",
       "    }\n",
       "</style>\n",
       "<table border=\"1\" class=\"dataframe\">\n",
       "  <thead>\n",
       "    <tr style=\"text-align: right;\">\n",
       "      <th></th>\n",
       "      <th>Pred</th>\n",
       "      <th>Actual</th>\n",
       "    </tr>\n",
       "    <tr>\n",
       "      <th>Deciles</th>\n",
       "      <th></th>\n",
       "      <th></th>\n",
       "    </tr>\n",
       "  </thead>\n",
       "  <tbody>\n",
       "    <tr>\n",
       "      <th>9</th>\n",
       "      <td>7.610402</td>\n",
       "      <td>7.623210</td>\n",
       "    </tr>\n",
       "    <tr>\n",
       "      <th>8</th>\n",
       "      <td>7.370269</td>\n",
       "      <td>7.397367</td>\n",
       "    </tr>\n",
       "    <tr>\n",
       "      <th>7</th>\n",
       "      <td>7.247426</td>\n",
       "      <td>7.244822</td>\n",
       "    </tr>\n",
       "    <tr>\n",
       "      <th>6</th>\n",
       "      <td>7.150929</td>\n",
       "      <td>7.143197</td>\n",
       "    </tr>\n",
       "    <tr>\n",
       "      <th>5</th>\n",
       "      <td>7.073599</td>\n",
       "      <td>7.049255</td>\n",
       "    </tr>\n",
       "    <tr>\n",
       "      <th>4</th>\n",
       "      <td>6.995431</td>\n",
       "      <td>7.000564</td>\n",
       "    </tr>\n",
       "    <tr>\n",
       "      <th>3</th>\n",
       "      <td>6.917009</td>\n",
       "      <td>6.910698</td>\n",
       "    </tr>\n",
       "    <tr>\n",
       "      <th>2</th>\n",
       "      <td>6.828173</td>\n",
       "      <td>6.790533</td>\n",
       "    </tr>\n",
       "    <tr>\n",
       "      <th>1</th>\n",
       "      <td>6.727448</td>\n",
       "      <td>6.709159</td>\n",
       "    </tr>\n",
       "    <tr>\n",
       "      <th>0</th>\n",
       "      <td>6.512288</td>\n",
       "      <td>6.563954</td>\n",
       "    </tr>\n",
       "  </tbody>\n",
       "</table>\n",
       "</div>"
      ],
      "text/plain": [
       "             Pred    Actual\n",
       "Deciles                    \n",
       "9        7.610402  7.623210\n",
       "8        7.370269  7.397367\n",
       "7        7.247426  7.244822\n",
       "6        7.150929  7.143197\n",
       "5        7.073599  7.049255\n",
       "4        6.995431  7.000564\n",
       "3        6.917009  6.910698\n",
       "2        6.828173  6.790533\n",
       "1        6.727448  6.709159\n",
       "0        6.512288  6.563954"
      ]
     },
     "execution_count": 43,
     "metadata": {},
     "output_type": "execute_result"
    }
   ],
   "source": [
    "#Decile Analysis for Train and Test -for validation of model (Business Validation)\n",
    "train['Pred']=train_pred\n",
    "train['Deciles']=pd.qcut(train['Pred'],10,labels=False)\n",
    "predicted=train[['Deciles','Pred']].groupby(['Deciles']).Pred.mean().sort_values(ascending=False)\n",
    "#predicted\n",
    "actual=train[['Deciles','ln_total_spend']].groupby(['Deciles']).ln_total_spend.mean().sort_values(ascending=False)\n",
    "#actual\n",
    "train_decile_analysis=pd.concat([predicted,actual],axis=1).sort_index(ascending=False)\n",
    "train_decile_analysis.columns=['Pred','Actual']\n",
    "train_decile_analysis"
   ]
  },
  {
   "cell_type": "code",
   "execution_count": 44,
   "metadata": {},
   "outputs": [
    {
     "name": "stderr",
     "output_type": "stream",
     "text": [
      "C:\\Users\\Lenovo\\Anaconda3\\lib\\site-packages\\ipykernel_launcher.py:1: SettingWithCopyWarning: \n",
      "A value is trying to be set on a copy of a slice from a DataFrame.\n",
      "Try using .loc[row_indexer,col_indexer] = value instead\n",
      "\n",
      "See the caveats in the documentation: http://pandas.pydata.org/pandas-docs/stable/indexing.html#indexing-view-versus-copy\n",
      "  \"\"\"Entry point for launching an IPython kernel.\n",
      "C:\\Users\\Lenovo\\Anaconda3\\lib\\site-packages\\ipykernel_launcher.py:2: SettingWithCopyWarning: \n",
      "A value is trying to be set on a copy of a slice from a DataFrame.\n",
      "Try using .loc[row_indexer,col_indexer] = value instead\n",
      "\n",
      "See the caveats in the documentation: http://pandas.pydata.org/pandas-docs/stable/indexing.html#indexing-view-versus-copy\n",
      "  \n"
     ]
    },
    {
     "data": {
      "text/html": [
       "<div>\n",
       "<style scoped>\n",
       "    .dataframe tbody tr th:only-of-type {\n",
       "        vertical-align: middle;\n",
       "    }\n",
       "\n",
       "    .dataframe tbody tr th {\n",
       "        vertical-align: top;\n",
       "    }\n",
       "\n",
       "    .dataframe thead th {\n",
       "        text-align: right;\n",
       "    }\n",
       "</style>\n",
       "<table border=\"1\" class=\"dataframe\">\n",
       "  <thead>\n",
       "    <tr style=\"text-align: right;\">\n",
       "      <th></th>\n",
       "      <th>Pred</th>\n",
       "      <th>Actual</th>\n",
       "    </tr>\n",
       "    <tr>\n",
       "      <th>Deciles</th>\n",
       "      <th></th>\n",
       "      <th></th>\n",
       "    </tr>\n",
       "  </thead>\n",
       "  <tbody>\n",
       "    <tr>\n",
       "      <th>9</th>\n",
       "      <td>7.575906</td>\n",
       "      <td>7.494800</td>\n",
       "    </tr>\n",
       "    <tr>\n",
       "      <th>8</th>\n",
       "      <td>7.339886</td>\n",
       "      <td>7.369161</td>\n",
       "    </tr>\n",
       "    <tr>\n",
       "      <th>7</th>\n",
       "      <td>7.228591</td>\n",
       "      <td>7.186346</td>\n",
       "    </tr>\n",
       "    <tr>\n",
       "      <th>6</th>\n",
       "      <td>7.141150</td>\n",
       "      <td>7.082897</td>\n",
       "    </tr>\n",
       "    <tr>\n",
       "      <th>5</th>\n",
       "      <td>7.066345</td>\n",
       "      <td>6.950702</td>\n",
       "    </tr>\n",
       "    <tr>\n",
       "      <th>4</th>\n",
       "      <td>7.000003</td>\n",
       "      <td>6.972983</td>\n",
       "    </tr>\n",
       "    <tr>\n",
       "      <th>3</th>\n",
       "      <td>6.917965</td>\n",
       "      <td>6.871739</td>\n",
       "    </tr>\n",
       "    <tr>\n",
       "      <th>2</th>\n",
       "      <td>6.834030</td>\n",
       "      <td>6.791968</td>\n",
       "    </tr>\n",
       "    <tr>\n",
       "      <th>1</th>\n",
       "      <td>6.730802</td>\n",
       "      <td>6.805006</td>\n",
       "    </tr>\n",
       "    <tr>\n",
       "      <th>0</th>\n",
       "      <td>6.524495</td>\n",
       "      <td>6.621007</td>\n",
       "    </tr>\n",
       "  </tbody>\n",
       "</table>\n",
       "</div>"
      ],
      "text/plain": [
       "             Pred    Actual\n",
       "Deciles                    \n",
       "9        7.575906  7.494800\n",
       "8        7.339886  7.369161\n",
       "7        7.228591  7.186346\n",
       "6        7.141150  7.082897\n",
       "5        7.066345  6.950702\n",
       "4        7.000003  6.972983\n",
       "3        6.917965  6.871739\n",
       "2        6.834030  6.791968\n",
       "1        6.730802  6.805006\n",
       "0        6.524495  6.621007"
      ]
     },
     "execution_count": 44,
     "metadata": {},
     "output_type": "execute_result"
    }
   ],
   "source": [
    "test['Pred']=test_pred\n",
    "test['Deciles']=pd.qcut(test['Pred'],10,labels=False)\n",
    "predicted=test[['Deciles','Pred']].groupby(['Deciles']).Pred.mean().sort_values(ascending=False)\n",
    "actual=test[['Deciles','ln_total_spend']].groupby(['Deciles']).ln_total_spend.mean().sort_values(ascending=False)\n",
    "test_decile_analysis=pd.concat([predicted,actual],axis=1).sort_index(ascending=False)\n",
    "test_decile_analysis.columns=['Pred','Actual']\n",
    "test_decile_analysis"
   ]
  },
  {
   "cell_type": "code",
   "execution_count": 45,
   "metadata": {},
   "outputs": [],
   "source": [
    "#Train Test Split\n",
    "train,test=train_test_split(data,test_size=0.3,random_state=120293)\n",
    "train_x,test_x,train_y,test_y=train_test_split(data.iloc[:,0:-1],data.ln_total_spend,\n",
    "                                               test_size=0.3,random_state=120293)"
   ]
  },
  {
   "cell_type": "markdown",
   "metadata": {},
   "source": [
    "### Bagging"
   ]
  },
  {
   "cell_type": "code",
   "execution_count": 46,
   "metadata": {},
   "outputs": [],
   "source": [
    "from sklearn.ensemble import BaggingRegressor"
   ]
  },
  {
   "cell_type": "code",
   "execution_count": 47,
   "metadata": {},
   "outputs": [],
   "source": [
    "pGrid={'n_estimators':[700,800,900,1000,1300]}"
   ]
  },
  {
   "cell_type": "code",
   "execution_count": 48,
   "metadata": {},
   "outputs": [],
   "source": [
    "gscv_br=GridSearchCV(estimator=BaggingRegressor(),param_grid=pGrid,cv=5,\n",
    "                   verbose=10,n_jobs=-1)"
   ]
  },
  {
   "cell_type": "code",
   "execution_count": 49,
   "metadata": {
    "scrolled": true
   },
   "outputs": [
    {
     "name": "stdout",
     "output_type": "stream",
     "text": [
      "Fitting 5 folds for each of 5 candidates, totalling 25 fits\n"
     ]
    },
    {
     "name": "stderr",
     "output_type": "stream",
     "text": [
      "[Parallel(n_jobs=-1)]: Using backend LokyBackend with 4 concurrent workers.\n",
      "[Parallel(n_jobs=-1)]: Done   5 tasks      | elapsed:  3.4min\n",
      "[Parallel(n_jobs=-1)]: Done  10 tasks      | elapsed:  5.5min\n",
      "[Parallel(n_jobs=-1)]: Done  17 tasks      | elapsed:  9.7min\n",
      "[Parallel(n_jobs=-1)]: Done  21 out of  25 | elapsed: 12.8min remaining:  2.4min\n",
      "[Parallel(n_jobs=-1)]: Done  25 out of  25 | elapsed: 14.6min finished\n"
     ]
    },
    {
     "data": {
      "text/plain": [
       "GridSearchCV(cv=5, error_score=nan,\n",
       "             estimator=BaggingRegressor(base_estimator=None, bootstrap=True,\n",
       "                                        bootstrap_features=False,\n",
       "                                        max_features=1.0, max_samples=1.0,\n",
       "                                        n_estimators=10, n_jobs=None,\n",
       "                                        oob_score=False, random_state=None,\n",
       "                                        verbose=0, warm_start=False),\n",
       "             iid='deprecated', n_jobs=-1,\n",
       "             param_grid={'n_estimators': [700, 800, 900, 1000, 1300]},\n",
       "             pre_dispatch='2*n_jobs', refit=True, return_train_score=False,\n",
       "             scoring=None, verbose=10)"
      ]
     },
     "execution_count": 49,
     "metadata": {},
     "output_type": "execute_result"
    }
   ],
   "source": [
    "gscv_br.fit(train_x,train_y)"
   ]
  },
  {
   "cell_type": "code",
   "execution_count": 50,
   "metadata": {},
   "outputs": [
    {
     "data": {
      "text/plain": [
       "{'n_estimators': 1000}"
      ]
     },
     "execution_count": 50,
     "metadata": {},
     "output_type": "execute_result"
    }
   ],
   "source": [
    "gscv_br.best_params_"
   ]
  },
  {
   "cell_type": "code",
   "execution_count": 51,
   "metadata": {},
   "outputs": [],
   "source": [
    "bagreg=BaggingRegressor(oob_score=True,n_estimators=900,verbose=True,\n",
    "                        random_state=120293)"
   ]
  },
  {
   "cell_type": "code",
   "execution_count": 52,
   "metadata": {},
   "outputs": [
    {
     "name": "stderr",
     "output_type": "stream",
     "text": [
      "[Parallel(n_jobs=1)]: Using backend SequentialBackend with 1 concurrent workers.\n",
      "[Parallel(n_jobs=1)]: Done   1 out of   1 | elapsed:  1.5min finished\n"
     ]
    },
    {
     "data": {
      "text/plain": [
       "BaggingRegressor(base_estimator=None, bootstrap=True, bootstrap_features=False,\n",
       "                 max_features=1.0, max_samples=1.0, n_estimators=900,\n",
       "                 n_jobs=None, oob_score=True, random_state=120293, verbose=True,\n",
       "                 warm_start=False)"
      ]
     },
     "execution_count": 52,
     "metadata": {},
     "output_type": "execute_result"
    }
   ],
   "source": [
    "bagreg.fit(train_x,train_y)"
   ]
  },
  {
   "cell_type": "code",
   "execution_count": 53,
   "metadata": {},
   "outputs": [
    {
     "name": "stderr",
     "output_type": "stream",
     "text": [
      "[Parallel(n_jobs=1)]: Using backend SequentialBackend with 1 concurrent workers.\n",
      "[Parallel(n_jobs=1)]: Done   1 out of   1 | elapsed:    4.0s finished\n",
      "[Parallel(n_jobs=1)]: Using backend SequentialBackend with 1 concurrent workers.\n",
      "[Parallel(n_jobs=1)]: Done   1 out of   1 | elapsed:    1.6s finished\n"
     ]
    }
   ],
   "source": [
    "train_pred=bagreg.predict(train_x)\n",
    "test_pred=bagreg.predict(test_x)"
   ]
  },
  {
   "cell_type": "code",
   "execution_count": 54,
   "metadata": {},
   "outputs": [
    {
     "name": "stdout",
     "output_type": "stream",
     "text": [
      "RMSE for Train is:  0.17905997213890443\n",
      "RMSE for Test is:  0.48712506740327116\n"
     ]
    }
   ],
   "source": [
    "#RMSE for Train and Test\n",
    "train_rmse=np.sqrt(metrics.mean_squared_error(train.ln_total_spend,train_pred))\n",
    "print('RMSE for Train is: ',train_rmse)\n",
    "test_rmse=np.sqrt(metrics.mean_squared_error(test.ln_total_spend,test_pred))\n",
    "print('RMSE for Test is: ',test_rmse)"
   ]
  },
  {
   "cell_type": "code",
   "execution_count": 55,
   "metadata": {},
   "outputs": [
    {
     "name": "stdout",
     "output_type": "stream",
     "text": [
      "MAPE for Train is:  7.000657460336839\n",
      "MAPE for Test is:  6.987625046725836\n"
     ]
    }
   ],
   "source": [
    "#MAPE for Train and Test\n",
    "train_mape=np.mean(metrics.mean_absolute_error((train.ln_total_spend-train_pred)/train_pred,train_pred))\n",
    "print('MAPE for Train is: ',train_mape)\n",
    "test_mape=np.mean(metrics.mean_absolute_error((test.ln_total_spend-test_pred)/test_pred,test_pred))\n",
    "print('MAPE for Test is: ',test_mape)"
   ]
  },
  {
   "cell_type": "code",
   "execution_count": 56,
   "metadata": {},
   "outputs": [
    {
     "name": "stdout",
     "output_type": "stream",
     "text": [
      "Correlation for Train is:  (0.9731033889821998, 0.0)\n",
      "Correlation for Test is:  (0.5164948560665118, 4.640253571003277e-103)\n"
     ]
    }
   ],
   "source": [
    "#Correlation for Train and Test\n",
    "train_corr=stats.stats.pearsonr(train.ln_total_spend,train_pred)\n",
    "print('Correlation for Train is: ',train_corr)\n",
    "test_corr=stats.stats.pearsonr(test.ln_total_spend,test_pred)\n",
    "print('Correlation for Test is: ',test_corr)"
   ]
  },
  {
   "cell_type": "code",
   "execution_count": 58,
   "metadata": {},
   "outputs": [
    {
     "name": "stderr",
     "output_type": "stream",
     "text": [
      "C:\\Users\\Lenovo\\Anaconda3\\lib\\site-packages\\ipykernel_launcher.py:2: SettingWithCopyWarning: \n",
      "A value is trying to be set on a copy of a slice from a DataFrame.\n",
      "Try using .loc[row_indexer,col_indexer] = value instead\n",
      "\n",
      "See the caveats in the documentation: http://pandas.pydata.org/pandas-docs/stable/indexing.html#indexing-view-versus-copy\n",
      "  \n",
      "C:\\Users\\Lenovo\\Anaconda3\\lib\\site-packages\\ipykernel_launcher.py:3: SettingWithCopyWarning: \n",
      "A value is trying to be set on a copy of a slice from a DataFrame.\n",
      "Try using .loc[row_indexer,col_indexer] = value instead\n",
      "\n",
      "See the caveats in the documentation: http://pandas.pydata.org/pandas-docs/stable/indexing.html#indexing-view-versus-copy\n",
      "  This is separate from the ipykernel package so we can avoid doing imports until\n"
     ]
    },
    {
     "data": {
      "text/html": [
       "<div>\n",
       "<style scoped>\n",
       "    .dataframe tbody tr th:only-of-type {\n",
       "        vertical-align: middle;\n",
       "    }\n",
       "\n",
       "    .dataframe tbody tr th {\n",
       "        vertical-align: top;\n",
       "    }\n",
       "\n",
       "    .dataframe thead th {\n",
       "        text-align: right;\n",
       "    }\n",
       "</style>\n",
       "<table border=\"1\" class=\"dataframe\">\n",
       "  <thead>\n",
       "    <tr style=\"text-align: right;\">\n",
       "      <th></th>\n",
       "      <th>Pred</th>\n",
       "      <th>Actual</th>\n",
       "    </tr>\n",
       "    <tr>\n",
       "      <th>Deciles</th>\n",
       "      <th></th>\n",
       "      <th></th>\n",
       "    </tr>\n",
       "  </thead>\n",
       "  <tbody>\n",
       "    <tr>\n",
       "      <th>9</th>\n",
       "      <td>7.757836</td>\n",
       "      <td>7.924961</td>\n",
       "    </tr>\n",
       "    <tr>\n",
       "      <th>8</th>\n",
       "      <td>7.507199</td>\n",
       "      <td>7.635357</td>\n",
       "    </tr>\n",
       "    <tr>\n",
       "      <th>7</th>\n",
       "      <td>7.325043</td>\n",
       "      <td>7.409026</td>\n",
       "    </tr>\n",
       "    <tr>\n",
       "      <th>6</th>\n",
       "      <td>7.180153</td>\n",
       "      <td>7.240155</td>\n",
       "    </tr>\n",
       "    <tr>\n",
       "      <th>5</th>\n",
       "      <td>7.055991</td>\n",
       "      <td>7.104868</td>\n",
       "    </tr>\n",
       "    <tr>\n",
       "      <th>4</th>\n",
       "      <td>6.939375</td>\n",
       "      <td>6.957031</td>\n",
       "    </tr>\n",
       "    <tr>\n",
       "      <th>3</th>\n",
       "      <td>6.820036</td>\n",
       "      <td>6.794895</td>\n",
       "    </tr>\n",
       "    <tr>\n",
       "      <th>2</th>\n",
       "      <td>6.694132</td>\n",
       "      <td>6.630947</td>\n",
       "    </tr>\n",
       "    <tr>\n",
       "      <th>1</th>\n",
       "      <td>6.513369</td>\n",
       "      <td>6.389272</td>\n",
       "    </tr>\n",
       "    <tr>\n",
       "      <th>0</th>\n",
       "      <td>6.206833</td>\n",
       "      <td>5.945463</td>\n",
       "    </tr>\n",
       "  </tbody>\n",
       "</table>\n",
       "</div>"
      ],
      "text/plain": [
       "             Pred    Actual\n",
       "Deciles                    \n",
       "9        7.757836  7.924961\n",
       "8        7.507199  7.635357\n",
       "7        7.325043  7.409026\n",
       "6        7.180153  7.240155\n",
       "5        7.055991  7.104868\n",
       "4        6.939375  6.957031\n",
       "3        6.820036  6.794895\n",
       "2        6.694132  6.630947\n",
       "1        6.513369  6.389272\n",
       "0        6.206833  5.945463"
      ]
     },
     "execution_count": 58,
     "metadata": {},
     "output_type": "execute_result"
    }
   ],
   "source": [
    "#Decile Analysis for Train and Test -for validation of model (Business Validation)\n",
    "train['Pred']=train_pred\n",
    "train['Deciles']=pd.qcut(train['Pred'],10,labels=False)\n",
    "predicted=train[['Deciles','Pred']].groupby(['Deciles']).Pred.mean().sort_values(ascending=False)\n",
    "actual=train[['Deciles','ln_total_spend']].groupby(['Deciles']).ln_total_spend.mean().sort_values(ascending=False)\n",
    "train_decile_analysis=pd.concat([predicted,actual],axis=1).sort_index(ascending=False)\n",
    "train_decile_analysis.columns=['Pred','Actual']\n",
    "train_decile_analysis"
   ]
  },
  {
   "cell_type": "code",
   "execution_count": 60,
   "metadata": {},
   "outputs": [
    {
     "name": "stderr",
     "output_type": "stream",
     "text": [
      "C:\\Users\\Lenovo\\Anaconda3\\lib\\site-packages\\ipykernel_launcher.py:1: SettingWithCopyWarning: \n",
      "A value is trying to be set on a copy of a slice from a DataFrame.\n",
      "Try using .loc[row_indexer,col_indexer] = value instead\n",
      "\n",
      "See the caveats in the documentation: http://pandas.pydata.org/pandas-docs/stable/indexing.html#indexing-view-versus-copy\n",
      "  \"\"\"Entry point for launching an IPython kernel.\n",
      "C:\\Users\\Lenovo\\Anaconda3\\lib\\site-packages\\ipykernel_launcher.py:2: SettingWithCopyWarning: \n",
      "A value is trying to be set on a copy of a slice from a DataFrame.\n",
      "Try using .loc[row_indexer,col_indexer] = value instead\n",
      "\n",
      "See the caveats in the documentation: http://pandas.pydata.org/pandas-docs/stable/indexing.html#indexing-view-versus-copy\n",
      "  \n"
     ]
    },
    {
     "data": {
      "text/html": [
       "<div>\n",
       "<style scoped>\n",
       "    .dataframe tbody tr th:only-of-type {\n",
       "        vertical-align: middle;\n",
       "    }\n",
       "\n",
       "    .dataframe tbody tr th {\n",
       "        vertical-align: top;\n",
       "    }\n",
       "\n",
       "    .dataframe thead th {\n",
       "        text-align: right;\n",
       "    }\n",
       "</style>\n",
       "<table border=\"1\" class=\"dataframe\">\n",
       "  <thead>\n",
       "    <tr style=\"text-align: right;\">\n",
       "      <th></th>\n",
       "      <th>Pred</th>\n",
       "      <th>Actual</th>\n",
       "    </tr>\n",
       "    <tr>\n",
       "      <th>Deciles</th>\n",
       "      <th></th>\n",
       "      <th></th>\n",
       "    </tr>\n",
       "  </thead>\n",
       "  <tbody>\n",
       "    <tr>\n",
       "      <th>9</th>\n",
       "      <td>7.578572</td>\n",
       "      <td>7.606789</td>\n",
       "    </tr>\n",
       "    <tr>\n",
       "      <th>8</th>\n",
       "      <td>7.361788</td>\n",
       "      <td>7.303988</td>\n",
       "    </tr>\n",
       "    <tr>\n",
       "      <th>7</th>\n",
       "      <td>7.212302</td>\n",
       "      <td>7.183270</td>\n",
       "    </tr>\n",
       "    <tr>\n",
       "      <th>6</th>\n",
       "      <td>7.115998</td>\n",
       "      <td>7.102212</td>\n",
       "    </tr>\n",
       "    <tr>\n",
       "      <th>5</th>\n",
       "      <td>7.011843</td>\n",
       "      <td>7.046176</td>\n",
       "    </tr>\n",
       "    <tr>\n",
       "      <th>4</th>\n",
       "      <td>6.896293</td>\n",
       "      <td>6.983189</td>\n",
       "    </tr>\n",
       "    <tr>\n",
       "      <th>3</th>\n",
       "      <td>6.810586</td>\n",
       "      <td>6.898244</td>\n",
       "    </tr>\n",
       "    <tr>\n",
       "      <th>2</th>\n",
       "      <td>6.748694</td>\n",
       "      <td>6.693228</td>\n",
       "    </tr>\n",
       "    <tr>\n",
       "      <th>1</th>\n",
       "      <td>6.677038</td>\n",
       "      <td>6.756965</td>\n",
       "    </tr>\n",
       "    <tr>\n",
       "      <th>0</th>\n",
       "      <td>6.498534</td>\n",
       "      <td>6.572547</td>\n",
       "    </tr>\n",
       "  </tbody>\n",
       "</table>\n",
       "</div>"
      ],
      "text/plain": [
       "             Pred    Actual\n",
       "Deciles                    \n",
       "9        7.578572  7.606789\n",
       "8        7.361788  7.303988\n",
       "7        7.212302  7.183270\n",
       "6        7.115998  7.102212\n",
       "5        7.011843  7.046176\n",
       "4        6.896293  6.983189\n",
       "3        6.810586  6.898244\n",
       "2        6.748694  6.693228\n",
       "1        6.677038  6.756965\n",
       "0        6.498534  6.572547"
      ]
     },
     "execution_count": 60,
     "metadata": {},
     "output_type": "execute_result"
    }
   ],
   "source": [
    "test['Pred']=test_pred\n",
    "test['Deciles']=pd.qcut(test['Pred'],10,labels=False)\n",
    "predicted=test[['Deciles','Pred']].groupby(['Deciles']).Pred.mean().sort_values(ascending=False)\n",
    "actual=test[['Deciles','ln_total_spend']].groupby(['Deciles']).ln_total_spend.mean().sort_values(ascending=False)\n",
    "test_decile_analysis=pd.concat([predicted,actual],axis=1).sort_index(ascending=False)\n",
    "test_decile_analysis.columns=['Pred','Actual']\n",
    "test_decile_analysis"
   ]
  },
  {
   "cell_type": "markdown",
   "metadata": {},
   "source": [
    "### Random Forest"
   ]
  },
  {
   "cell_type": "code",
   "execution_count": 61,
   "metadata": {},
   "outputs": [],
   "source": [
    "from sklearn.ensemble import RandomForestRegressor"
   ]
  },
  {
   "cell_type": "code",
   "execution_count": 62,
   "metadata": {},
   "outputs": [],
   "source": [
    "pGrid={'n_estimators':[10,20,50,100,200,500],'max_depth':range(2,10),\n",
    "       'min_samples_split':[2,5,10,20,30,50]}"
   ]
  },
  {
   "cell_type": "code",
   "execution_count": 63,
   "metadata": {},
   "outputs": [],
   "source": [
    "gscv_rf=GridSearchCV(estimator=RandomForestRegressor(),param_grid=pGrid,\n",
    "                    verbose=10,n_jobs=-1,cv=5)"
   ]
  },
  {
   "cell_type": "code",
   "execution_count": 64,
   "metadata": {
    "scrolled": true
   },
   "outputs": [
    {
     "name": "stdout",
     "output_type": "stream",
     "text": [
      "Fitting 5 folds for each of 288 candidates, totalling 1440 fits\n"
     ]
    },
    {
     "name": "stderr",
     "output_type": "stream",
     "text": [
      "[Parallel(n_jobs=-1)]: Using backend LokyBackend with 4 concurrent workers.\n",
      "[Parallel(n_jobs=-1)]: Done   5 tasks      | elapsed:    2.3s\n",
      "[Parallel(n_jobs=-1)]: Done  10 tasks      | elapsed:    2.7s\n",
      "[Parallel(n_jobs=-1)]: Done  17 tasks      | elapsed:    4.6s\n",
      "[Parallel(n_jobs=-1)]: Done  24 tasks      | elapsed:    8.2s\n",
      "[Parallel(n_jobs=-1)]: Done  33 tasks      | elapsed:   14.1s\n",
      "[Parallel(n_jobs=-1)]: Done  42 tasks      | elapsed:   16.1s\n",
      "[Parallel(n_jobs=-1)]: Done  53 tasks      | elapsed:   21.2s\n",
      "[Parallel(n_jobs=-1)]: Done  64 tasks      | elapsed:   27.9s\n",
      "[Parallel(n_jobs=-1)]: Done  77 tasks      | elapsed:   30.9s\n",
      "[Parallel(n_jobs=-1)]: Done  90 tasks      | elapsed:   40.6s\n",
      "[Parallel(n_jobs=-1)]: Done 105 tasks      | elapsed:   43.4s\n",
      "[Parallel(n_jobs=-1)]: Done 120 tasks      | elapsed:   54.2s\n",
      "[Parallel(n_jobs=-1)]: Done 137 tasks      | elapsed:   57.7s\n",
      "[Parallel(n_jobs=-1)]: Done 154 tasks      | elapsed:  1.1min\n",
      "[Parallel(n_jobs=-1)]: Done 173 tasks      | elapsed:  1.3min\n",
      "[Parallel(n_jobs=-1)]: Done 192 tasks      | elapsed:  1.4min\n",
      "[Parallel(n_jobs=-1)]: Done 213 tasks      | elapsed:  1.7min\n",
      "[Parallel(n_jobs=-1)]: Done 234 tasks      | elapsed:  1.9min\n",
      "[Parallel(n_jobs=-1)]: Done 257 tasks      | elapsed:  2.1min\n",
      "[Parallel(n_jobs=-1)]: Done 280 tasks      | elapsed:  2.4min\n",
      "[Parallel(n_jobs=-1)]: Done 305 tasks      | elapsed:  2.7min\n",
      "[Parallel(n_jobs=-1)]: Done 330 tasks      | elapsed:  3.1min\n",
      "[Parallel(n_jobs=-1)]: Done 357 tasks      | elapsed:  3.5min\n",
      "[Parallel(n_jobs=-1)]: Done 384 tasks      | elapsed:  3.8min\n",
      "[Parallel(n_jobs=-1)]: Done 413 tasks      | elapsed:  4.3min\n",
      "[Parallel(n_jobs=-1)]: Done 442 tasks      | elapsed:  4.8min\n",
      "[Parallel(n_jobs=-1)]: Done 473 tasks      | elapsed:  5.4min\n",
      "[Parallel(n_jobs=-1)]: Done 504 tasks      | elapsed:  6.0min\n",
      "[Parallel(n_jobs=-1)]: Done 537 tasks      | elapsed:  6.8min\n",
      "[Parallel(n_jobs=-1)]: Done 570 tasks      | elapsed:  7.6min\n",
      "[Parallel(n_jobs=-1)]: Done 605 tasks      | elapsed:  8.3min\n",
      "[Parallel(n_jobs=-1)]: Done 640 tasks      | elapsed:  9.1min\n",
      "[Parallel(n_jobs=-1)]: Done 677 tasks      | elapsed:  9.9min\n",
      "[Parallel(n_jobs=-1)]: Done 714 tasks      | elapsed: 10.9min\n",
      "[Parallel(n_jobs=-1)]: Done 753 tasks      | elapsed: 12.1min\n",
      "[Parallel(n_jobs=-1)]: Done 792 tasks      | elapsed: 13.1min\n",
      "[Parallel(n_jobs=-1)]: Done 833 tasks      | elapsed: 14.4min\n",
      "[Parallel(n_jobs=-1)]: Done 874 tasks      | elapsed: 15.7min\n",
      "[Parallel(n_jobs=-1)]: Done 917 tasks      | elapsed: 16.7min\n",
      "[Parallel(n_jobs=-1)]: Done 960 tasks      | elapsed: 18.4min\n",
      "[Parallel(n_jobs=-1)]: Done 1005 tasks      | elapsed: 19.7min\n",
      "[Parallel(n_jobs=-1)]: Done 1050 tasks      | elapsed: 21.6min\n",
      "[Parallel(n_jobs=-1)]: Done 1097 tasks      | elapsed: 22.7min\n",
      "[Parallel(n_jobs=-1)]: Done 1144 tasks      | elapsed: 24.9min\n",
      "[Parallel(n_jobs=-1)]: Done 1193 tasks      | elapsed: 26.5min\n",
      "[Parallel(n_jobs=-1)]: Done 1242 tasks      | elapsed: 28.2min\n",
      "[Parallel(n_jobs=-1)]: Done 1293 tasks      | elapsed: 30.3min\n",
      "[Parallel(n_jobs=-1)]: Done 1344 tasks      | elapsed: 32.0min\n",
      "[Parallel(n_jobs=-1)]: Done 1397 tasks      | elapsed: 33.5min\n",
      "[Parallel(n_jobs=-1)]: Done 1440 out of 1440 | elapsed: 35.3min finished\n"
     ]
    },
    {
     "data": {
      "text/plain": [
       "GridSearchCV(cv=5, error_score=nan,\n",
       "             estimator=RandomForestRegressor(bootstrap=True, ccp_alpha=0.0,\n",
       "                                             criterion='mse', max_depth=None,\n",
       "                                             max_features='auto',\n",
       "                                             max_leaf_nodes=None,\n",
       "                                             max_samples=None,\n",
       "                                             min_impurity_decrease=0.0,\n",
       "                                             min_impurity_split=None,\n",
       "                                             min_samples_leaf=1,\n",
       "                                             min_samples_split=2,\n",
       "                                             min_weight_fraction_leaf=0.0,\n",
       "                                             n_estimators=100, n_jobs=None,\n",
       "                                             oob_score=False, random_state=None,\n",
       "                                             verbose=0, warm_start=False),\n",
       "             iid='deprecated', n_jobs=-1,\n",
       "             param_grid={'max_depth': range(2, 10),\n",
       "                         'min_samples_split': [2, 5, 10, 20, 30, 50],\n",
       "                         'n_estimators': [10, 20, 50, 100, 200, 500]},\n",
       "             pre_dispatch='2*n_jobs', refit=True, return_train_score=False,\n",
       "             scoring=None, verbose=10)"
      ]
     },
     "execution_count": 64,
     "metadata": {},
     "output_type": "execute_result"
    }
   ],
   "source": [
    "gscv_rf.fit(train_x,train_y)"
   ]
  },
  {
   "cell_type": "code",
   "execution_count": 65,
   "metadata": {},
   "outputs": [
    {
     "data": {
      "text/plain": [
       "{'max_depth': 4, 'min_samples_split': 50, 'n_estimators': 20}"
      ]
     },
     "execution_count": 65,
     "metadata": {},
     "output_type": "execute_result"
    }
   ],
   "source": [
    "gscv_rf.best_params_"
   ]
  },
  {
   "cell_type": "code",
   "execution_count": 66,
   "metadata": {},
   "outputs": [],
   "source": [
    "rand_reg=RandomForestRegressor(oob_score=True,n_estimators=50,max_depth=4,\n",
    "                               min_samples_split=20,n_jobs=-1,\n",
    "                              verbose=True)"
   ]
  },
  {
   "cell_type": "code",
   "execution_count": 67,
   "metadata": {},
   "outputs": [
    {
     "name": "stderr",
     "output_type": "stream",
     "text": [
      "[Parallel(n_jobs=-1)]: Using backend ThreadingBackend with 4 concurrent workers.\n",
      "[Parallel(n_jobs=-1)]: Done  42 tasks      | elapsed:    0.2s\n",
      "[Parallel(n_jobs=-1)]: Done  50 out of  50 | elapsed:    0.3s finished\n"
     ]
    },
    {
     "data": {
      "text/plain": [
       "RandomForestRegressor(bootstrap=True, ccp_alpha=0.0, criterion='mse',\n",
       "                      max_depth=4, max_features='auto', max_leaf_nodes=None,\n",
       "                      max_samples=None, min_impurity_decrease=0.0,\n",
       "                      min_impurity_split=None, min_samples_leaf=1,\n",
       "                      min_samples_split=20, min_weight_fraction_leaf=0.0,\n",
       "                      n_estimators=50, n_jobs=-1, oob_score=True,\n",
       "                      random_state=None, verbose=True, warm_start=False)"
      ]
     },
     "execution_count": 67,
     "metadata": {},
     "output_type": "execute_result"
    }
   ],
   "source": [
    "rand_reg.fit(train_x,train_y)"
   ]
  },
  {
   "cell_type": "code",
   "execution_count": 68,
   "metadata": {},
   "outputs": [
    {
     "name": "stderr",
     "output_type": "stream",
     "text": [
      "[Parallel(n_jobs=4)]: Using backend ThreadingBackend with 4 concurrent workers.\n",
      "[Parallel(n_jobs=4)]: Done  42 tasks      | elapsed:    0.0s\n",
      "[Parallel(n_jobs=4)]: Done  50 out of  50 | elapsed:    0.0s finished\n",
      "[Parallel(n_jobs=4)]: Using backend ThreadingBackend with 4 concurrent workers.\n",
      "[Parallel(n_jobs=4)]: Done  42 tasks      | elapsed:    0.0s\n",
      "[Parallel(n_jobs=4)]: Done  50 out of  50 | elapsed:    0.0s finished\n"
     ]
    }
   ],
   "source": [
    "train_pred=rand_reg.predict(train_x)\n",
    "test_pred=rand_reg.predict(test_x)"
   ]
  },
  {
   "cell_type": "code",
   "execution_count": 69,
   "metadata": {},
   "outputs": [
    {
     "name": "stdout",
     "output_type": "stream",
     "text": [
      "RMSE for Train is:  0.4713777066127362\n",
      "RMSE for Test is:  0.48180732718521696\n"
     ]
    }
   ],
   "source": [
    "#RMSE for Train and Test\n",
    "train_rmse=np.sqrt(metrics.mean_squared_error(train.ln_total_spend,train_pred))\n",
    "print('RMSE for Train is: ',train_rmse)\n",
    "test_rmse=np.sqrt(metrics.mean_squared_error(test.ln_total_spend,test_pred))\n",
    "print('RMSE for Test is: ',test_rmse)"
   ]
  },
  {
   "cell_type": "code",
   "execution_count": 70,
   "metadata": {},
   "outputs": [
    {
     "name": "stdout",
     "output_type": "stream",
     "text": [
      "MAPE for Train is:  7.0028466146142705\n",
      "MAPE for Test is:  6.9929193245151655\n"
     ]
    }
   ],
   "source": [
    "#MAPE for Train and Test\n",
    "train_mape=np.mean(metrics.mean_absolute_error((train.ln_total_spend-train_pred)/train_pred,train_pred))\n",
    "print('MAPE for Train is: ',train_mape)\n",
    "test_mape=np.mean(metrics.mean_absolute_error((test.ln_total_spend-test_pred)/test_pred,test_pred))\n",
    "print('MAPE for Test is: ',test_mape)"
   ]
  },
  {
   "cell_type": "code",
   "execution_count": 71,
   "metadata": {},
   "outputs": [
    {
     "name": "stdout",
     "output_type": "stream",
     "text": [
      "Correlation for Train is:  (0.5887443381242874, 0.0)\n",
      "Correlation for Test is:  (0.5295322976977863, 3.537860331475221e-109)\n"
     ]
    }
   ],
   "source": [
    "#Correlation for Train and Test\n",
    "train_corr=stats.stats.pearsonr(train.ln_total_spend,train_pred)\n",
    "print('Correlation for Train is: ',train_corr)\n",
    "test_corr=stats.stats.pearsonr(test.ln_total_spend,test_pred)\n",
    "print('Correlation for Test is: ',test_corr)"
   ]
  },
  {
   "cell_type": "code",
   "execution_count": 72,
   "metadata": {},
   "outputs": [
    {
     "name": "stderr",
     "output_type": "stream",
     "text": [
      "C:\\Users\\Lenovo\\Anaconda3\\lib\\site-packages\\ipykernel_launcher.py:2: SettingWithCopyWarning: \n",
      "A value is trying to be set on a copy of a slice from a DataFrame.\n",
      "Try using .loc[row_indexer,col_indexer] = value instead\n",
      "\n",
      "See the caveats in the documentation: http://pandas.pydata.org/pandas-docs/stable/indexing.html#indexing-view-versus-copy\n",
      "  \n"
     ]
    },
    {
     "data": {
      "text/html": [
       "<div>\n",
       "<style scoped>\n",
       "    .dataframe tbody tr th:only-of-type {\n",
       "        vertical-align: middle;\n",
       "    }\n",
       "\n",
       "    .dataframe tbody tr th {\n",
       "        vertical-align: top;\n",
       "    }\n",
       "\n",
       "    .dataframe thead th {\n",
       "        text-align: right;\n",
       "    }\n",
       "</style>\n",
       "<table border=\"1\" class=\"dataframe\">\n",
       "  <thead>\n",
       "    <tr style=\"text-align: right;\">\n",
       "      <th></th>\n",
       "      <th>Pred</th>\n",
       "      <th>Actual</th>\n",
       "    </tr>\n",
       "    <tr>\n",
       "      <th>Deciles</th>\n",
       "      <th></th>\n",
       "      <th></th>\n",
       "    </tr>\n",
       "  </thead>\n",
       "  <tbody>\n",
       "    <tr>\n",
       "      <th>9</th>\n",
       "      <td>7.494210</td>\n",
       "      <td>7.924961</td>\n",
       "    </tr>\n",
       "    <tr>\n",
       "      <th>8</th>\n",
       "      <td>7.298607</td>\n",
       "      <td>7.635357</td>\n",
       "    </tr>\n",
       "    <tr>\n",
       "      <th>7</th>\n",
       "      <td>7.181236</td>\n",
       "      <td>7.409026</td>\n",
       "    </tr>\n",
       "    <tr>\n",
       "      <th>6</th>\n",
       "      <td>7.074492</td>\n",
       "      <td>7.240155</td>\n",
       "    </tr>\n",
       "    <tr>\n",
       "      <th>5</th>\n",
       "      <td>6.973728</td>\n",
       "      <td>7.104868</td>\n",
       "    </tr>\n",
       "    <tr>\n",
       "      <th>4</th>\n",
       "      <td>6.918778</td>\n",
       "      <td>6.957031</td>\n",
       "    </tr>\n",
       "    <tr>\n",
       "      <th>3</th>\n",
       "      <td>6.864526</td>\n",
       "      <td>6.794895</td>\n",
       "    </tr>\n",
       "    <tr>\n",
       "      <th>2</th>\n",
       "      <td>6.815969</td>\n",
       "      <td>6.630947</td>\n",
       "    </tr>\n",
       "    <tr>\n",
       "      <th>1</th>\n",
       "      <td>6.734287</td>\n",
       "      <td>6.389272</td>\n",
       "    </tr>\n",
       "    <tr>\n",
       "      <th>0</th>\n",
       "      <td>6.672136</td>\n",
       "      <td>5.945463</td>\n",
       "    </tr>\n",
       "  </tbody>\n",
       "</table>\n",
       "</div>"
      ],
      "text/plain": [
       "             Pred    Actual\n",
       "Deciles                    \n",
       "9        7.494210  7.924961\n",
       "8        7.298607  7.635357\n",
       "7        7.181236  7.409026\n",
       "6        7.074492  7.240155\n",
       "5        6.973728  7.104868\n",
       "4        6.918778  6.957031\n",
       "3        6.864526  6.794895\n",
       "2        6.815969  6.630947\n",
       "1        6.734287  6.389272\n",
       "0        6.672136  5.945463"
      ]
     },
     "execution_count": 72,
     "metadata": {},
     "output_type": "execute_result"
    }
   ],
   "source": [
    "#Decile Analysis for Train and Test -for validation of model (Business Validation)\n",
    "train['Pred']=train_pred\n",
    "#train['Deciles']=pd.qcut(train['Pred'],10,labels=False)\n",
    "predicted=train[['Deciles','Pred']].groupby(['Deciles']).Pred.mean().sort_values(ascending=False)\n",
    "actual=train[['Deciles','ln_total_spend']].groupby(['Deciles']).ln_total_spend.mean().sort_values(ascending=False)\n",
    "train_decile_analysis=pd.concat([predicted,actual],axis=1).sort_index(ascending=False)\n",
    "train_decile_analysis.columns=['Pred','Actual']\n",
    "train_decile_analysis"
   ]
  },
  {
   "cell_type": "code",
   "execution_count": 73,
   "metadata": {
    "scrolled": true
   },
   "outputs": [
    {
     "name": "stderr",
     "output_type": "stream",
     "text": [
      "C:\\Users\\Lenovo\\Anaconda3\\lib\\site-packages\\ipykernel_launcher.py:1: SettingWithCopyWarning: \n",
      "A value is trying to be set on a copy of a slice from a DataFrame.\n",
      "Try using .loc[row_indexer,col_indexer] = value instead\n",
      "\n",
      "See the caveats in the documentation: http://pandas.pydata.org/pandas-docs/stable/indexing.html#indexing-view-versus-copy\n",
      "  \"\"\"Entry point for launching an IPython kernel.\n"
     ]
    },
    {
     "data": {
      "text/html": [
       "<div>\n",
       "<style scoped>\n",
       "    .dataframe tbody tr th:only-of-type {\n",
       "        vertical-align: middle;\n",
       "    }\n",
       "\n",
       "    .dataframe tbody tr th {\n",
       "        vertical-align: top;\n",
       "    }\n",
       "\n",
       "    .dataframe thead th {\n",
       "        text-align: right;\n",
       "    }\n",
       "</style>\n",
       "<table border=\"1\" class=\"dataframe\">\n",
       "  <thead>\n",
       "    <tr style=\"text-align: right;\">\n",
       "      <th></th>\n",
       "      <th>Pred</th>\n",
       "      <th>Actual</th>\n",
       "    </tr>\n",
       "    <tr>\n",
       "      <th>Deciles</th>\n",
       "      <th></th>\n",
       "      <th></th>\n",
       "    </tr>\n",
       "  </thead>\n",
       "  <tbody>\n",
       "    <tr>\n",
       "      <th>9</th>\n",
       "      <td>7.563310</td>\n",
       "      <td>7.606789</td>\n",
       "    </tr>\n",
       "    <tr>\n",
       "      <th>8</th>\n",
       "      <td>7.361434</td>\n",
       "      <td>7.303988</td>\n",
       "    </tr>\n",
       "    <tr>\n",
       "      <th>7</th>\n",
       "      <td>7.202255</td>\n",
       "      <td>7.183270</td>\n",
       "    </tr>\n",
       "    <tr>\n",
       "      <th>6</th>\n",
       "      <td>7.096609</td>\n",
       "      <td>7.102212</td>\n",
       "    </tr>\n",
       "    <tr>\n",
       "      <th>5</th>\n",
       "      <td>7.020722</td>\n",
       "      <td>7.046176</td>\n",
       "    </tr>\n",
       "    <tr>\n",
       "      <th>4</th>\n",
       "      <td>6.896264</td>\n",
       "      <td>6.983189</td>\n",
       "    </tr>\n",
       "    <tr>\n",
       "      <th>3</th>\n",
       "      <td>6.786110</td>\n",
       "      <td>6.898244</td>\n",
       "    </tr>\n",
       "    <tr>\n",
       "      <th>2</th>\n",
       "      <td>6.757375</td>\n",
       "      <td>6.693228</td>\n",
       "    </tr>\n",
       "    <tr>\n",
       "      <th>1</th>\n",
       "      <td>6.715793</td>\n",
       "      <td>6.756965</td>\n",
       "    </tr>\n",
       "    <tr>\n",
       "      <th>0</th>\n",
       "      <td>6.557127</td>\n",
       "      <td>6.572547</td>\n",
       "    </tr>\n",
       "  </tbody>\n",
       "</table>\n",
       "</div>"
      ],
      "text/plain": [
       "             Pred    Actual\n",
       "Deciles                    \n",
       "9        7.563310  7.606789\n",
       "8        7.361434  7.303988\n",
       "7        7.202255  7.183270\n",
       "6        7.096609  7.102212\n",
       "5        7.020722  7.046176\n",
       "4        6.896264  6.983189\n",
       "3        6.786110  6.898244\n",
       "2        6.757375  6.693228\n",
       "1        6.715793  6.756965\n",
       "0        6.557127  6.572547"
      ]
     },
     "execution_count": 73,
     "metadata": {},
     "output_type": "execute_result"
    }
   ],
   "source": [
    "test['Pred']=test_pred\n",
    "#test['Deciles']=pd.qcut(test['Pred'],10,labels=False)\n",
    "predicted=test[['Deciles','Pred']].groupby(['Deciles']).Pred.mean().sort_values(ascending=False)\n",
    "actual=test[['Deciles','ln_total_spend']].groupby(['Deciles']).ln_total_spend.mean().sort_values(ascending=False)\n",
    "test_decile_analysis=pd.concat([predicted,actual],axis=1).sort_index(ascending=False)\n",
    "test_decile_analysis.columns=['Pred','Actual']\n",
    "test_decile_analysis"
   ]
  }
 ],
 "metadata": {
  "kernelspec": {
   "display_name": "Python 3",
   "language": "python",
   "name": "python3"
  },
  "language_info": {
   "codemirror_mode": {
    "name": "ipython",
    "version": 3
   },
   "file_extension": ".py",
   "mimetype": "text/x-python",
   "name": "python",
   "nbconvert_exporter": "python",
   "pygments_lexer": "ipython3",
   "version": "3.7.3"
  }
 },
 "nbformat": 4,
 "nbformat_minor": 2
}
